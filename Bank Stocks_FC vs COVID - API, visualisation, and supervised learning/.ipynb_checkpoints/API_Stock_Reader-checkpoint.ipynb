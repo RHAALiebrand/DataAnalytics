{
 "cells": [
  {
   "cell_type": "markdown",
   "metadata": {},
   "source": [
    "# API Data reader\n",
    "\n",
    "\n",
    "Often I get my data from www.investing.com, or IEX/Google Finance in combination with Panda's data reader (https://pandas-datareader.readthedocs.io/en/latest/remote_data.html). Today however, let's use stooq since I do not want to publically show my API for either of these sources. Let's start gettig the data from 3 NL banks and 3 US banks (I want to include the US since the crisis was itnigthed by... maybe we see some lag in the Dutch stocks):\n",
    "\n",
    "*European*\n",
    "*  ING, Dutch (Rabobank is not AEX-listed)\n",
    "*  Deutsche Bank, German\n",
    "*  HSBC, English\n",
    "\n",
    "*American*\n",
    "* CitiGroup\n",
    "* Goldman Sachs\n",
    "* JPMorgan Chase\n",
    "\n",
    "This piece of code was used to extract data using alphavantages. Other websites can be used following the link above but this one appears to be most convenient *at this moment in time* (this will change since first Google finance etc were very convenient)\n",
    "\n",
    "I used my own API to obtain the stock data from https://www.alphavantage.co/. The API is now replaced by xxx and the dataframe is exported as stocks."
   ]
  },
  {
   "cell_type": "code",
   "execution_count": null,
   "metadata": {},
   "outputs": [],
   "source": [
    "import pandas as pd\n",
    "import numpy as np\n",
    "\n",
    "import pandas_datareader.data as pd_data\n",
    "import pandas_datareader.wb as pd_wb\n",
    "\n",
    "\n",
    "# EURO Banks\n",
    "ING = pd_data.DataReader('ING', 'av-daily', date_start_FC, date_end_FC,api_key='I6LLFEJHN7JJRVKI') # ABN listed at AEX\n",
    "DDB = pd_data.DataReader('DB', 'av-daily', date_start_FC, date_end_FC,api_key='I6LLFEJHN7JJRVKI') # DB listed at ETR\n",
    "HSB = pd_data.DataReader('HSBC', 'av-daily', date_start_FC, date_end_FC,api_key='I6LLFEJHN7JJRVKI') # HSBC listed at LON\n",
    "\n",
    "import time\n",
    "time.sleep(60)\n",
    "\n",
    "# US Banks\n",
    "CIT = pd_data.DataReader('C', 'av-daily', date_start_FC, date_end_FC,api_key='I6LLFEJHN7JJRVKI') # C listed at NYSE\n",
    "GMS = pd_data.DataReader('GS', 'av-daily', date_start_FC, date_end_FC,api_key='I6LLFEJHN7JJRVKI') # GS listed at NYSE\n",
    "JPM = pd_data.DataReader('JPM', 'av-daily', date_start_FC, date_end_FC,api_key='I6LLFEJHN7JJRVKI') # JPM listed at NYSE\n",
    "\n",
    "EU = pd.concat([ING, DDB, HSB],axis=1,keys='ING DDB HSB'.split())\n",
    "US = pd.concat([CIT, GMS, JPM],axis=1,keys='CIT GMS JPM'.split())\n",
    "stocks_FC = pd.concat([EU, US],axis=1,keys='EU US'.split())\n",
    "stocks_FC.columns.names = ['Region','Bank','Stock']\n",
    "stocks_FC.to_pickle('stocks_FC')\n",
    "stocks_FC.head()\n",
    "\n"
   ]
  }
 ],
 "metadata": {
  "kernelspec": {
   "display_name": "Python 3",
   "language": "python",
   "name": "python3"
  },
  "language_info": {
   "codemirror_mode": {
    "name": "ipython",
    "version": 3
   },
   "file_extension": ".py",
   "mimetype": "text/x-python",
   "name": "python",
   "nbconvert_exporter": "python",
   "pygments_lexer": "ipython3",
   "version": "3.7.6"
  }
 },
 "nbformat": 4,
 "nbformat_minor": 4
}
