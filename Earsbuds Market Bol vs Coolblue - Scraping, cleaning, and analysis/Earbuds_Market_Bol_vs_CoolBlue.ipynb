{
 "cells": [
  {
   "cell_type": "markdown",
   "metadata": {},
   "source": [
    "# Earbuds Market: Bol vs CoolBlue\n",
    "\n",
    "In this part of the project I will use the scraped data of the other programs to:\n",
    "    1. Identify the key difference between product offering at Bol and CoolBlue\n",
    "    2. Identify marketing strategies by the different companies by analysing review ratings.\n",
    "    2. Try to predict the outcome of a review using NLP."
   ]
  },
  {
   "cell_type": "markdown",
   "metadata": {},
   "source": [
    "Let's start by importing the required libraries"
   ]
  },
  {
   "cell_type": "code",
   "execution_count": 1,
   "metadata": {},
   "outputs": [],
   "source": [
    "# Analysis\n",
    "import pandas as pd\n",
    "import numpy as np\n",
    "\n",
    "# Visualisation\n",
    "import seaborn as sns\n",
    "import matplotlib.pyplot as plt\n",
    "%matplotlib inline\n",
    "sns.set_style('whitegrid')\n",
    "sns.set_context('notebook')\n",
    "sns.set(font='times new roman',font_scale=1,palette='Greens')\n",
    "\n",
    "# NLP\n",
    "from nltk.corpus import stopwords\n",
    "stop_words=stopwords.words('dutch')\n",
    "import string as string_module\n"
   ]
  },
  {
   "cell_type": "code",
   "execution_count": 2,
   "metadata": {},
   "outputs": [],
   "source": [
    "def simplify_string(string,remove_stops):\n",
    "    nopunc = [char for char in string if char not in string_module.punctuation]\n",
    "    nopunc=''.join(nopunc) \n",
    "    nopunc=nopunc.lower()\n",
    "    if remove_stops:\n",
    "        clean_string = [word for word in nopunc.split() if word.lower() not in stop_words]\n",
    "        return ' '.join(clean_string)\n",
    "    else:\n",
    "        return nopunc"
   ]
  },
  {
   "cell_type": "code",
   "execution_count": 3,
   "metadata": {},
   "outputs": [
    {
     "name": "stdout",
     "output_type": "stream",
     "text": [
      "<class 'pandas.core.frame.DataFrame'>\n",
      "RangeIndex: 288 entries, 0 to 287\n",
      "Data columns (total 11 columns):\n",
      " #   Column         Non-Null Count  Dtype  \n",
      "---  ------         --------------  -----  \n",
      " 0   Manufacturer   288 non-null    object \n",
      " 1   Name           288 non-null    object \n",
      " 2   Price [EUR]    286 non-null    float64\n",
      " 3   Discount       288 non-null    object \n",
      " 4   Ret P [EUR]    286 non-null    float64\n",
      " 5   Stars [x/5.0]  288 non-null    object \n",
      " 6   S_count        288 non-null    int64  \n",
      " 7   Description    288 non-null    object \n",
      " 8   Pros           288 non-null    object \n",
      " 9   Cons           288 non-null    object \n",
      " 10  Reviews        288 non-null    object \n",
      "dtypes: float64(2), int64(1), object(8)\n",
      "memory usage: 24.9+ KB\n"
     ]
    }
   ],
   "source": [
    "EarBuds_Bol=pd.read_pickle('EarBuds_Bol')\n",
    "EarBuds_Bol.info()"
   ]
  },
  {
   "cell_type": "code",
   "execution_count": 4,
   "metadata": {},
   "outputs": [
    {
     "name": "stdout",
     "output_type": "stream",
     "text": [
      "<class 'pandas.core.frame.DataFrame'>\n",
      "RangeIndex: 164 entries, 0 to 163\n",
      "Data columns (total 11 columns):\n",
      " #   Column         Non-Null Count  Dtype  \n",
      "---  ------         --------------  -----  \n",
      " 0   Manufacturer   164 non-null    object \n",
      " 1   Name           164 non-null    object \n",
      " 2   Price [EUR]    164 non-null    float64\n",
      " 3   Discount       164 non-null    object \n",
      " 4   Ret P [EUR]    164 non-null    float64\n",
      " 5   Stars [x/5.0]  164 non-null    object \n",
      " 6   S_count        164 non-null    int64  \n",
      " 7   Description    164 non-null    object \n",
      " 8   Pros           164 non-null    object \n",
      " 9   Cons           164 non-null    object \n",
      " 10  Reviews        164 non-null    object \n",
      "dtypes: float64(2), int64(1), object(8)\n",
      "memory usage: 14.2+ KB\n"
     ]
    }
   ],
   "source": [
    "EarBuds_CoolBlue=pd.read_pickle('EarBuds_CoolBlue')\n",
    "EarBuds_CoolBlue.info()"
   ]
  },
  {
   "cell_type": "markdown",
   "metadata": {},
   "source": [
    "Nice, I managed to get the same types for every row. Further, most data cleaning has already been done during the scraping process. "
   ]
  },
  {
   "cell_type": "code",
   "execution_count": 5,
   "metadata": {},
   "outputs": [
    {
     "data": {
      "text/plain": [
       "0      AirPods Pro met Draadloze Oplaadcase\n",
       "1                  AirPods 2 met oplaadcase\n",
       "2                      Powerbeats Pro Zwart\n",
       "3                  Elite 75t Titanium Zwart\n",
       "4        AirPods 2 met draadloze oplaadcase\n",
       "                       ...                 \n",
       "159             Ink'd+ Active Wireless Rood\n",
       "160                Minor II Bluetooth Zwart\n",
       "161                             Tarah Zwart\n",
       "162                         LIVE 300TWS Wit\n",
       "163                                  Zilver\n",
       "Name: Name, Length: 164, dtype: object"
      ]
     },
     "execution_count": 5,
     "metadata": {},
     "output_type": "execute_result"
    }
   ],
   "source": [
    "EarBuds_CoolBlue['Name']"
   ]
  },
  {
   "cell_type": "code",
   "execution_count": 6,
   "metadata": {},
   "outputs": [
    {
     "data": {
      "text/plain": [
       "0           Tune 220TWS - Volledig draadloze oordopjes -\n",
       "1              Tune 120TWS - Zwart - Volledige draadloze\n",
       "2                         Airpods Pro - met Active Noise\n",
       "3                                         Galaxy Buds+ -\n",
       "4                                          Galaxy Buds -\n",
       "                             ...                        \n",
       "283    CALIBER Oordopjes MAC070BT/W witte stereo true...\n",
       "284                  TWS1 - In-ear TWS koptelefoon / Wit\n",
       "285      Happy Plugs Hoofdtelefoon Air 1 plus Earbud wit\n",
       "286    HOCO ES32 Plus - Volledig Draadloze Oordopjes ...\n",
       "287    ES42 - Draadloze oordopjes - Bluetooth oortjes...\n",
       "Name: Name, Length: 288, dtype: object"
      ]
     },
     "execution_count": 6,
     "metadata": {},
     "output_type": "execute_result"
    }
   ],
   "source": [
    "EarBuds_Bol['Name']"
   ]
  },
  {
   "cell_type": "code",
   "execution_count": 7,
   "metadata": {},
   "outputs": [
    {
     "ename": "ModuleNotFoundError",
     "evalue": "No module named 'Levenshtein'",
     "output_type": "error",
     "traceback": [
      "\u001b[1;31m---------------------------------------------------------------------------\u001b[0m",
      "\u001b[1;31mModuleNotFoundError\u001b[0m                       Traceback (most recent call last)",
      "\u001b[1;32m<ipython-input-7-1ba0379b2848>\u001b[0m in \u001b[0;36m<module>\u001b[1;34m\u001b[0m\n\u001b[1;32m----> 1\u001b[1;33m \u001b[1;32mimport\u001b[0m \u001b[0mLevenshtein\u001b[0m \u001b[1;32mas\u001b[0m \u001b[0mlev\u001b[0m\u001b[1;33m\u001b[0m\u001b[1;33m\u001b[0m\u001b[0m\n\u001b[0m",
      "\u001b[1;31mModuleNotFoundError\u001b[0m: No module named 'Levenshtein'"
     ]
    }
   ],
   "source": [
    "import Levenshtein as lev\n"
   ]
  },
  {
   "cell_type": "code",
   "execution_count": 10,
   "metadata": {},
   "outputs": [],
   "source": [
    "import numpy as np\n",
    "def levenshtein_ratio_and_distance(s, t, ratio_calc = False):\n",
    "    \"\"\" levenshtein_ratio_and_distance:\n",
    "        Calculates levenshtein distance between two strings.\n",
    "        If ratio_calc = True, the function computes the\n",
    "        levenshtein distance ratio of similarity between two strings\n",
    "        For all i and j, distance[i,j] will contain the Levenshtein\n",
    "        distance between the first i characters of s and the\n",
    "        first j characters of t\n",
    "    \"\"\"\n",
    "    # Initialize matrix of zeros\n",
    "    rows = len(s)+1\n",
    "    cols = len(t)+1\n",
    "    distance = np.zeros((rows,cols),dtype = int)\n",
    "\n",
    "    # Populate matrix of zeros with the indeces of each character of both strings\n",
    "    for i in range(1, rows):\n",
    "        for k in range(1,cols):\n",
    "            distance[i][0] = i\n",
    "            distance[0][k] = k\n",
    "\n",
    "    # Iterate over the matrix to compute the cost of deletions,insertions and/or substitutions    \n",
    "    for col in range(1, cols):\n",
    "        for row in range(1, rows):\n",
    "            if s[row-1] == t[col-1]:\n",
    "                cost = 0 # If the characters are the same in the two strings in a given position [i,j] then the cost is 0\n",
    "            else:\n",
    "                # In order to align the results with those of the Python Levenshtein package, if we choose to calculate the ratio\n",
    "                # the cost of a substitution is 2. If we calculate just distance, then the cost of a substitution is 1.\n",
    "                if ratio_calc == True:\n",
    "                    cost = 2\n",
    "                else:\n",
    "                    cost = 1\n",
    "            distance[row][col] = min(distance[row-1][col] + 1,      # Cost of deletions\n",
    "                                 distance[row][col-1] + 1,          # Cost of insertions\n",
    "                                 distance[row-1][col-1] + cost)     # Cost of substitutions\n",
    "    if ratio_calc == True:\n",
    "        # Computation of the Levenshtein Distance Ratio\n",
    "        Ratio = ((len(s)+len(t)) - distance[row][col]) / (len(s)+len(t))\n",
    "        return Ratio\n",
    "    else:\n",
    "        # print(distance) # Uncomment if you want to see the matrix showing how the algorithm computes the cost of deletions,\n",
    "        # insertions and/or substitutions\n",
    "        # This is the minimum number of edits needed to convert string a to string b\n",
    "        return \"The strings are {} edits away\".format(distance[row][col])"
   ]
  },
  {
   "cell_type": "code",
   "execution_count": 11,
   "metadata": {},
   "outputs": [
    {
     "data": {
      "text/plain": [
       "0.4"
      ]
     },
     "execution_count": 11,
     "metadata": {},
     "output_type": "execute_result"
    }
   ],
   "source": [
    "levenshtein_ratio_and_distance('rens', 'redafsansdadafsz', ratio_calc = True)"
   ]
  },
  {
   "cell_type": "code",
   "execution_count": 12,
   "metadata": {},
   "outputs": [
    {
     "data": {
      "text/plain": [
       "0      airpods pro met draadloze oplaadcase\n",
       "1                  airpods 2 met oplaadcase\n",
       "2                      powerbeats pro zwart\n",
       "3                  elite 75t titanium zwart\n",
       "4        airpods 2 met draadloze oplaadcase\n",
       "                       ...                 \n",
       "159               inkd active wireless rood\n",
       "160                minor ii bluetooth zwart\n",
       "161                             tarah zwart\n",
       "162                         live 300tws wit\n",
       "163                                  zilver\n",
       "Name: Name, Length: 164, dtype: object"
      ]
     },
     "execution_count": 12,
     "metadata": {},
     "output_type": "execute_result"
    }
   ],
   "source": [
    "EarBuds_Bol['Name'].apply(lambda x: simplify_string(x,False))\n",
    "EarBuds_CoolBlue['Name'].apply(lambda x: simplify_string(x,False))"
   ]
  },
  {
   "cell_type": "code",
   "execution_count": 39,
   "metadata": {
    "scrolled": true
   },
   "outputs": [
    {
     "name": "stdout",
     "output_type": "stream",
     "text": [
      "0.46153846153846156\n",
      "Tune 220TWS - Volledig draadloze oordopjes - PREDICT AirPods 2 met draadloze oplaadcase\n",
      "0.576271186440678\n",
      "Tune 120TWS - Zwart - Volledige draadloze PREDICT Tune 120 TWS Zwart\n",
      "0.5757575757575758\n",
      "Airpods Pro - met Active Noise PREDICT AirPods Pro met Draadloze Oplaadcase\n",
      "0.8666666666666667\n",
      "Galaxy Buds+ - PREDICT Galaxy Buds+ Wit\n",
      "0.8571428571428571\n",
      "Galaxy Buds - PREDICT Galaxy Buds Wit\n",
      "0.48175182481751827\n",
      "Draadloze Oordopjes - Met Draadloze Oplaadcase - Alternatief Airpods - Airpods - Oortjes - PREDICT AirPods 2 met oplaadcase + AirPods Leren Hoesje\n",
      "0.4594594594594595\n",
      "SHB2505 - Volledig draadloze oordopjes - PREDICT AirPods 2 met draadloze oplaadcase\n",
      "0.5747126436781609\n",
      "Professional Draadloze Oordopjes - Met Oplaadcase - PREDICT AirPods Pro met Draadloze Oplaadcase\n",
      "0.5681818181818182\n",
      "Professional+ Draadloze Oordopjes - Met Oplaadcase - PREDICT AirPods Pro met Draadloze Oplaadcase\n",
      "0.43137254901960786\n",
      "S80 - Draadloze Bluetooth Oordopjes - Oortjes Met Oplaadcase - Wit PREDICT AirPods Pro met Draadloze Oplaadcase\n"
     ]
    }
   ],
   "source": [
    "Name_corr = np.zeros((len(EarBuds_Bol['Name']),len(EarBuds_CoolBlue['Name'])))\n",
    "BolRow=2\n",
    "for j in range(0,10):\n",
    "    for i in range(0,len(EarBuds_CoolBlue['Name'])):\n",
    "        Name_corr[j,i]=levenshtein_ratio_and_distance(EarBuds_Bol['Name'].iloc[j],EarBuds_CoolBlue['Name'].iloc[i],True)\n",
    "        \n",
    "    row_max=np.argmax(Name_corr[j,:])\n",
    "    print(np.max(Name_corr[j,:]))\n",
    "    print(EarBuds_Bol['Name'].iloc[j], 'PREDICT', EarBuds_CoolBlue['Name'].iloc[row_max])\n",
    "\n",
    "\n"
   ]
  },
  {
   "cell_type": "code",
   "execution_count": 34,
   "metadata": {},
   "outputs": [
    {
     "data": {
      "text/plain": [
       "array([[0.375     , 0.29411765, 0.25      , ..., 0.18181818, 0.23728814,\n",
       "        0.16      ],\n",
       "       [0.33766234, 0.33846154, 0.26229508, ..., 0.26923077, 0.25      ,\n",
       "        0.17021277],\n",
       "       [0.57575758, 0.55555556, 0.32      , ..., 0.19512195, 0.13333333,\n",
       "        0.16666667],\n",
       "       ...,\n",
       "       [0.        , 0.        , 0.        , ..., 0.        , 0.        ,\n",
       "        0.        ],\n",
       "       [0.        , 0.        , 0.        , ..., 0.        , 0.        ,\n",
       "        0.        ],\n",
       "       [0.        , 0.        , 0.        , ..., 0.        , 0.        ,\n",
       "        0.        ]])"
      ]
     },
     "execution_count": 34,
     "metadata": {},
     "output_type": "execute_result"
    }
   ],
   "source": [
    "Name_corr"
   ]
  },
  {
   "cell_type": "code",
   "execution_count": 20,
   "metadata": {
    "scrolled": true
   },
   "outputs": [
    {
     "data": {
      "text/plain": [
       "'AirPods Pro met Draadloze Oplaadcase'"
      ]
     },
     "execution_count": 20,
     "metadata": {},
     "output_type": "execute_result"
    }
   ],
   "source": [
    "EarBuds_CoolBlue['Name'].iloc[0]"
   ]
  },
  {
   "cell_type": "code",
   "execution_count": 19,
   "metadata": {},
   "outputs": [
    {
     "data": {
      "text/plain": [
       "0      AirPods Pro met Draadloze Oplaadcase\n",
       "1                  AirPods 2 met oplaadcase\n",
       "2                      Powerbeats Pro Zwart\n",
       "3                  Elite 75t Titanium Zwart\n",
       "4        AirPods 2 met draadloze oplaadcase\n",
       "                       ...                 \n",
       "159             Ink'd+ Active Wireless Rood\n",
       "160                Minor II Bluetooth Zwart\n",
       "161                             Tarah Zwart\n",
       "162                         LIVE 300TWS Wit\n",
       "163                                  Zilver\n",
       "Name: Name, Length: 164, dtype: object"
      ]
     },
     "execution_count": 19,
     "metadata": {},
     "output_type": "execute_result"
    }
   ],
   "source": [
    "EarBuds_CoolBlue['Name']"
   ]
  },
  {
   "cell_type": "code",
   "execution_count": 26,
   "metadata": {},
   "outputs": [],
   "source": [
    "a='JBL Tune 220TWS - Volledig draadloze oordopjes - Zwart'\n",
    "b='JBL TUNE220TWS'\n",
    "c='sssssssssssss'\n",
    "\n",
    "a=simplify_string(a,False)\n",
    "b=simplify_string(b,False)"
   ]
  },
  {
   "cell_type": "code",
   "execution_count": 24,
   "metadata": {},
   "outputs": [
    {
     "data": {
      "text/plain": [
       "0.5555555555555556"
      ]
     },
     "execution_count": 24,
     "metadata": {},
     "output_type": "execute_result"
    }
   ],
   "source": [
    "levenshtein_ratio_and_distance(a,b,True)"
   ]
  },
  {
   "cell_type": "code",
   "execution_count": 27,
   "metadata": {},
   "outputs": [
    {
     "data": {
      "text/plain": [
       "0.07407407407407407"
      ]
     },
     "execution_count": 27,
     "metadata": {},
     "output_type": "execute_result"
    }
   ],
   "source": [
    "levenshtein_ratio_and_distance(b,c,True)"
   ]
  },
  {
   "cell_type": "code",
   "execution_count": null,
   "metadata": {},
   "outputs": [],
   "source": []
  }
 ],
 "metadata": {
  "kernelspec": {
   "display_name": "Python 3",
   "language": "python",
   "name": "python3"
  },
  "language_info": {
   "codemirror_mode": {
    "name": "ipython",
    "version": 3
   },
   "file_extension": ".py",
   "mimetype": "text/x-python",
   "name": "python",
   "nbconvert_exporter": "python",
   "pygments_lexer": "ipython3",
   "version": "3.7.6"
  }
 },
 "nbformat": 4,
 "nbformat_minor": 4
}
