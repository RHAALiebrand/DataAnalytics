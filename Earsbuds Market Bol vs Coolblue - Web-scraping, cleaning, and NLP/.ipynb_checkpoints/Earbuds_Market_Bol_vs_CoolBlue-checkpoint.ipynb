{
 "cells": [
  {
   "cell_type": "markdown",
   "metadata": {},
   "source": [
    "# Earbuds Market: Bol vs CoolBlue\n",
    "\n",
    "In this part of the project I will use the scraped data of the other programs to:\n",
    "    1. Identify the key difference between product offering at Bol and CoolBlue\n",
    "    2. Identify marketing strategies by the different companies by analysing review ratings.\n",
    "    2. Try to predict the outcome of a review using NLP."
   ]
  },
  {
   "cell_type": "markdown",
   "metadata": {},
   "source": [
    "Let's start by importing the required libraries"
   ]
  },
  {
   "cell_type": "code",
   "execution_count": 309,
   "metadata": {},
   "outputs": [],
   "source": [
    "# Analysis\n",
    "import pandas as pd\n",
    "import numpy as np\n",
    "\n",
    "# Visualisation\n",
    "import seaborn as sns\n",
    "import matplotlib.pyplot as plt\n",
    "%matplotlib inline\n",
    "sns.set_style('whitegrid')\n",
    "sns.set_context('notebook')\n",
    "sns.set(font='times new roman',font_scale=1,palette='Greens')\n",
    "\n",
    "# NLP\n",
    "from nltk.corpus import stopwords\n",
    "stop_words=stopwords.words('dutch')\n",
    "import string as string_module\n",
    "\n",
    "# Cut warnings for now\n",
    "import warnings\n",
    "warnings.filterwarnings('ignore')"
   ]
  },
  {
   "cell_type": "markdown",
   "metadata": {},
   "source": [
    "Below are the required functions for this script. The levenshtein_ratio_and_distance is written based on, https://en.wikipedia.org/wiki/Levenshtein_distance."
   ]
  },
  {
   "cell_type": "code",
   "execution_count": 318,
   "metadata": {},
   "outputs": [],
   "source": [
    "def simplify_string(string,remove_stops,remove_earbud_words):\n",
    "    nopunc = [char for char in string if char not in string_module.punctuation]\n",
    "    nopunc=''.join(nopunc) \n",
    "    nopunc=nopunc.lower()\n",
    "    if remove_stops:\n",
    "        stop_words=stopwords.words('dutch')\n",
    "        clean_string = [word for word in nopunc.split() if word.lower() not in stop_words]\n",
    "        nopunc=' '.join(clean_string)\n",
    "    if remove_earbud_words:\n",
    "        earbud_words='volledige volledig oordopjes draadloos draadloze sport titaniumzwart wit zwart titanium goudbeige blauw goud beige koperzwart true wireless earphones donker donkergrijs'.split()\n",
    "        clean_string = [word for word in nopunc.split() if word.lower() not in earbud_words]\n",
    "        nopunc=' '.join(clean_string)   \n",
    "    return nopunc\n",
    "\n",
    "\n",
    "def levenshtein_ratio_and_dist(string1, string2, ratio_calc = False):\n",
    "    import numpy as np\n",
    "    # Initialize matrix of zeros\n",
    "    R = len(string1)+1\n",
    "    C = len(string2)+1\n",
    "    dist = np.zeros((R,C),dtype = int)\n",
    "\n",
    "    # Populate matrix of zeros with the indeces of each character of both strings\n",
    "    for i in range(1, R):\n",
    "        for k in range(1,C):\n",
    "            dist[i][0] = i\n",
    "            dist[0][k] = k\n",
    "\n",
    "    # Iterate over the matrix to compute the cost of deletions,insertions and/or substitutions    \n",
    "    for col in range(1, C):\n",
    "        for row in range(1, R):\n",
    "            if string1[row-1] == string2[col-1]:\n",
    "                cost = 0 # If the characters are the same in the two strings in a given position [i,j] then the cost is 0\n",
    "            else:\n",
    "                if ratio_calc == True:\n",
    "                    cost = 2\n",
    "                else:\n",
    "                    cost = 1\n",
    "            dist[row][col] = min(dist[row-1][col] + 1,      # Cost of deletions\n",
    "                                 dist[row][col-1] + 1,          # Cost of insertions\n",
    "                                 dist[row-1][col-1] + cost)     # Cost of substitutions\n",
    "    if ratio_calc == True:\n",
    "        # Computation of the Levenshtein dist Ratio\n",
    "        Ratio = ((len(string1)+len(string2)) - dist[row][col]) / (len(string1)+len(string2))\n",
    "        return Ratio\n",
    "    else:\n",
    "        return \"The strings are {} edits away\".format(dist[row][col])\n",
    "    \n",
    "\n",
    "    \n",
    "def stars_to_rating(star,cut):\n",
    "    if star<cut: # This is set as 4.0 to have # low=95 and # high 153. Choice is arbitrary\n",
    "        return 'Low'\n",
    "    else:\n",
    "        return 'High'"
   ]
  },
  {
   "cell_type": "markdown",
   "metadata": {},
   "source": [
    "Lets now get the dataframes as created by the web scraping tools:"
   ]
  },
  {
   "cell_type": "code",
   "execution_count": 287,
   "metadata": {},
   "outputs": [],
   "source": [
    "EarBuds_Bol=pd.read_pickle('EarBuds_Bol.csv')\n",
    "EarBuds_CoolBlue=pd.read_pickle('EarBuds_CoolBlue.csv')"
   ]
  },
  {
   "cell_type": "code",
   "execution_count": 288,
   "metadata": {},
   "outputs": [
    {
     "name": "stdout",
     "output_type": "stream",
     "text": [
      "<class 'pandas.core.frame.DataFrame'>\n",
      "RangeIndex: 288 entries, 0 to 287\n",
      "Data columns (total 11 columns):\n",
      " #   Column         Non-Null Count  Dtype  \n",
      "---  ------         --------------  -----  \n",
      " 0   Manufacturer   288 non-null    object \n",
      " 1   Name           288 non-null    object \n",
      " 2   Price [EUR]    286 non-null    float64\n",
      " 3   Discount       288 non-null    object \n",
      " 4   Ret P [EUR]    286 non-null    float64\n",
      " 5   Stars [x/5.0]  288 non-null    object \n",
      " 6   S_count        288 non-null    int64  \n",
      " 7   Description    288 non-null    object \n",
      " 8   Pros           288 non-null    object \n",
      " 9   Cons           288 non-null    object \n",
      " 10  Reviews        288 non-null    object \n",
      "dtypes: float64(2), int64(1), object(8)\n",
      "memory usage: 24.9+ KB\n"
     ]
    }
   ],
   "source": [
    "EarBuds_Bol.info()"
   ]
  },
  {
   "cell_type": "code",
   "execution_count": 289,
   "metadata": {},
   "outputs": [
    {
     "name": "stdout",
     "output_type": "stream",
     "text": [
      "<class 'pandas.core.frame.DataFrame'>\n",
      "RangeIndex: 164 entries, 0 to 163\n",
      "Data columns (total 11 columns):\n",
      " #   Column         Non-Null Count  Dtype  \n",
      "---  ------         --------------  -----  \n",
      " 0   Manufacturer   164 non-null    object \n",
      " 1   Name           164 non-null    object \n",
      " 2   Price [EUR]    164 non-null    float64\n",
      " 3   Discount       164 non-null    object \n",
      " 4   Ret P [EUR]    164 non-null    float64\n",
      " 5   Stars [x/5.0]  164 non-null    object \n",
      " 6   S_count        164 non-null    int64  \n",
      " 7   Description    164 non-null    object \n",
      " 8   Pros           164 non-null    object \n",
      " 9   Cons           164 non-null    object \n",
      " 10  Reviews        164 non-null    object \n",
      "dtypes: float64(2), int64(1), object(8)\n",
      "memory usage: 14.2+ KB\n"
     ]
    }
   ],
   "source": [
    "EarBuds_CoolBlue.info()"
   ]
  },
  {
   "cell_type": "markdown",
   "metadata": {},
   "source": [
    "Nice, I managed to get the same types for every row. Further, most data cleaning has already been done during the scraping process. "
   ]
  },
  {
   "cell_type": "markdown",
   "metadata": {},
   "source": [
    "## Product offerings\n",
    "Above we see that Bol offers about 284 different earbuds while coolblue only offers 164 different buds. Let's first discover the product ranges a bid. Starting with the manufacturer:"
   ]
  },
  {
   "cell_type": "code",
   "execution_count": 290,
   "metadata": {},
   "outputs": [
    {
     "name": "stdout",
     "output_type": "stream",
     "text": [
      "Number of manufacturers @ Bol:  81\n",
      "Number of manufacturers @ CoolBlue:  28\n"
     ]
    }
   ],
   "source": [
    "print('Number of manufacturers @ Bol: ',len(EarBuds_Bol['Manufacturer'].unique()))\n",
    "print('Number of manufacturers @ CoolBlue: ',len(EarBuds_CoolBlue['Manufacturer'].unique()))"
   ]
  },
  {
   "cell_type": "markdown",
   "metadata": {},
   "source": [
    "It can be seen that Bol offers products from about 3 times as many manufacturers compared to CoolBlue. My hypothesis would be that prices will be lower for Bol because economies of scale. Let's find that out later.\n",
    "\n",
    "However, the total number of product is not 3 times as larger for CoolBlue. This means that the number of products per manufacturer must be higher for CoolBlue compared to Bol. This is indeed verified below. Why this is the case can not be concluded based on this data. "
   ]
  },
  {
   "cell_type": "code",
   "execution_count": 291,
   "metadata": {
    "scrolled": true
   },
   "outputs": [
    {
     "name": "stdout",
     "output_type": "stream",
     "text": [
      "Average number of products per manufacturer @ Bol:  3.5555555555555554\n",
      "Average number of products per manufacturer @ CoolBlue:  5.857142857142857\n"
     ]
    }
   ],
   "source": [
    "print('Average number of products per manufacturer @ Bol: ',len(EarBuds_Bol['Manufacturer'])/len(EarBuds_Bol['Manufacturer'].unique()))\n",
    "print('Average number of products per manufacturer @ CoolBlue: ',len(EarBuds_CoolBlue['Manufacturer'])/len(EarBuds_CoolBlue['Manufacturer'].unique()))"
   ]
  },
  {
   "cell_type": "markdown",
   "metadata": {},
   "source": [
    "Clearly, the offering range on Bol.com is larger. However, is this because they include more high or low end EarBuds? Let's figure that out."
   ]
  },
  {
   "cell_type": "code",
   "execution_count": 292,
   "metadata": {
    "scrolled": false
   },
   "outputs": [
    {
     "data": {
      "text/plain": [
       "Text(0.5, 1.0, 'Top 20 most frequently offered manufacturers on CoolBlue')"
      ]
     },
     "execution_count": 292,
     "metadata": {},
     "output_type": "execute_result"
    },
    {
     "data": {
      "image/png": "[encoded data removed]",
      "text/plain": [
       "<Figure size 1584x360 with 1 Axes>"
      ]
     },
     "metadata": {},
     "output_type": "display_data"
    },
    {
     "data": {
      "image/png": "[encoded data removed]",
      "text/plain": [
       "<Figure size 1584x360 with 1 Axes>"
      ]
     },
     "metadata": {},
     "output_type": "display_data"
    }
   ],
   "source": [
    "plt.figure(figsize=(22,5))\n",
    "sns.countplot(x='Manufacturer',data=EarBuds_Bol,order=EarBuds_Bol.Manufacturer.value_counts().iloc[:20].index,palette='Greens')\n",
    "plt.title('Top 20 most frequently offered manufacturers on Bol')\n",
    "\n",
    "plt.figure(figsize=(22,5))\n",
    "sns.countplot(x='Manufacturer',data=EarBuds_CoolBlue,order=EarBuds_CoolBlue.Manufacturer.value_counts().iloc[:20].index,palette='Greens')\n",
    "plt.title('Top 20 most frequently offered manufacturers on CoolBlue')\n"
   ]
  },
  {
   "cell_type": "markdown",
   "metadata": {},
   "source": [
    "It can be seen that the 'largest manufacturers' on Bol.com are low-tier manufacturers. Hoco, mossmedia, and happy plugs do in general price lower compared to top tier brands such as JBL, Jabra and Beats. CoolBlue clearly focusses on the higher customer segement compared to Bol. Can we verify this by considering average price levels per manufacturer?"
   ]
  },
  {
   "cell_type": "code",
   "execution_count": 301,
   "metadata": {},
   "outputs": [
    {
     "name": "stdout",
     "output_type": "stream",
     "text": [
      "Bol:\n"
     ]
    },
    {
     "data": {
      "text/html": [
       "<div>\n",
       "<style scoped>\n",
       "    .dataframe tbody tr th:only-of-type {\n",
       "        vertical-align: middle;\n",
       "    }\n",
       "\n",
       "    .dataframe tbody tr th {\n",
       "        vertical-align: top;\n",
       "    }\n",
       "\n",
       "    .dataframe thead th {\n",
       "        text-align: right;\n",
       "    }\n",
       "</style>\n",
       "<table border=\"1\" class=\"dataframe\">\n",
       "  <thead>\n",
       "    <tr style=\"text-align: right;\">\n",
       "      <th></th>\n",
       "      <th>Price [EUR]</th>\n",
       "      <th>Ret P [EUR]</th>\n",
       "      <th>S_count</th>\n",
       "      <th>Name</th>\n",
       "      <th>Price</th>\n",
       "    </tr>\n",
       "    <tr>\n",
       "      <th>Manufacturer</th>\n",
       "      <th></th>\n",
       "      <th></th>\n",
       "      <th></th>\n",
       "      <th></th>\n",
       "      <th></th>\n",
       "    </tr>\n",
       "  </thead>\n",
       "  <tbody>\n",
       "    <tr>\n",
       "      <th>Hoco</th>\n",
       "      <td>47.521111</td>\n",
       "      <td>47.521111</td>\n",
       "      <td>2.611111</td>\n",
       "      <td>18</td>\n",
       "      <td>47.521111</td>\n",
       "    </tr>\n",
       "    <tr>\n",
       "      <th>Mossmedia</th>\n",
       "      <td>36.637143</td>\n",
       "      <td>37.494286</td>\n",
       "      <td>33.785714</td>\n",
       "      <td>14</td>\n",
       "      <td>36.637143</td>\n",
       "    </tr>\n",
       "    <tr>\n",
       "      <th>Happy Plugs</th>\n",
       "      <td>83.049231</td>\n",
       "      <td>86.066154</td>\n",
       "      <td>8.538462</td>\n",
       "      <td>13</td>\n",
       "      <td>83.049231</td>\n",
       "    </tr>\n",
       "    <tr>\n",
       "      <th>QCY</th>\n",
       "      <td>34.824167</td>\n",
       "      <td>34.824167</td>\n",
       "      <td>15.166667</td>\n",
       "      <td>12</td>\n",
       "      <td>34.824167</td>\n",
       "    </tr>\n",
       "    <tr>\n",
       "      <th>Shackways</th>\n",
       "      <td>28.583636</td>\n",
       "      <td>28.583636</td>\n",
       "      <td>37.545455</td>\n",
       "      <td>11</td>\n",
       "      <td>28.583636</td>\n",
       "    </tr>\n",
       "  </tbody>\n",
       "</table>\n",
       "</div>"
      ],
      "text/plain": [
       "              Price [EUR]  Ret P [EUR]    S_count  Name      Price\n",
       "Manufacturer                                                      \n",
       "Hoco            47.521111    47.521111   2.611111    18  47.521111\n",
       "Mossmedia       36.637143    37.494286  33.785714    14  36.637143\n",
       "Happy Plugs     83.049231    86.066154   8.538462    13  83.049231\n",
       "QCY             34.824167    34.824167  15.166667    12  34.824167\n",
       "Shackways       28.583636    28.583636  37.545455    11  28.583636"
      ]
     },
     "execution_count": 301,
     "metadata": {},
     "output_type": "execute_result"
    }
   ],
   "source": [
    "Name_count_Bol=EarBuds_Bol.groupby('Manufacturer').count()\n",
    "Name_count_Bol=Name_count_Bol['Name']\n",
    "\n",
    "Grouped_Man_Bol = pd.concat([EarBuds_Bol.groupby('Manufacturer').mean(),Name_count_Bol], axis=1, sort=False)\n",
    "Grouped_Man_Bol['Price']=Grouped_Man_Bol['Price [EUR]']\n",
    "Grouped_Man_Bol=Grouped_Man_Bol.sort_values('Name',ascending=False)\n",
    "print('Bol:')\n",
    "Grouped_Man_Bol.head()"
   ]
  },
  {
   "cell_type": "code",
   "execution_count": 302,
   "metadata": {},
   "outputs": [
    {
     "name": "stdout",
     "output_type": "stream",
     "text": [
      "CoolBlue:\n"
     ]
    },
    {
     "data": {
      "text/html": [
       "<div>\n",
       "<style scoped>\n",
       "    .dataframe tbody tr th:only-of-type {\n",
       "        vertical-align: middle;\n",
       "    }\n",
       "\n",
       "    .dataframe tbody tr th {\n",
       "        vertical-align: top;\n",
       "    }\n",
       "\n",
       "    .dataframe thead th {\n",
       "        text-align: right;\n",
       "    }\n",
       "</style>\n",
       "<table border=\"1\" class=\"dataframe\">\n",
       "  <thead>\n",
       "    <tr style=\"text-align: right;\">\n",
       "      <th></th>\n",
       "      <th>Price [EUR]</th>\n",
       "      <th>Ret P [EUR]</th>\n",
       "      <th>S_count</th>\n",
       "      <th>Name</th>\n",
       "      <th>Price</th>\n",
       "    </tr>\n",
       "    <tr>\n",
       "      <th>Manufacturer</th>\n",
       "      <th></th>\n",
       "      <th></th>\n",
       "      <th></th>\n",
       "      <th></th>\n",
       "      <th></th>\n",
       "    </tr>\n",
       "  </thead>\n",
       "  <tbody>\n",
       "    <tr>\n",
       "      <th>JBL</th>\n",
       "      <td>75.185833</td>\n",
       "      <td>75.185833</td>\n",
       "      <td>119.777778</td>\n",
       "      <td>36</td>\n",
       "      <td>75.185833</td>\n",
       "    </tr>\n",
       "    <tr>\n",
       "      <th>Jabra</th>\n",
       "      <td>173.412632</td>\n",
       "      <td>173.412632</td>\n",
       "      <td>105.421053</td>\n",
       "      <td>19</td>\n",
       "      <td>173.412632</td>\n",
       "    </tr>\n",
       "    <tr>\n",
       "      <th>Beats</th>\n",
       "      <td>208.987692</td>\n",
       "      <td>208.987692</td>\n",
       "      <td>219.384615</td>\n",
       "      <td>13</td>\n",
       "      <td>208.987692</td>\n",
       "    </tr>\n",
       "    <tr>\n",
       "      <th>Sony</th>\n",
       "      <td>103.803636</td>\n",
       "      <td>103.803636</td>\n",
       "      <td>31.000000</td>\n",
       "      <td>11</td>\n",
       "      <td>103.803636</td>\n",
       "    </tr>\n",
       "    <tr>\n",
       "      <th>Aftershokz</th>\n",
       "      <td>123.578000</td>\n",
       "      <td>131.578000</td>\n",
       "      <td>180.400000</td>\n",
       "      <td>10</td>\n",
       "      <td>123.578000</td>\n",
       "    </tr>\n",
       "  </tbody>\n",
       "</table>\n",
       "</div>"
      ],
      "text/plain": [
       "              Price [EUR]  Ret P [EUR]     S_count  Name       Price\n",
       "Manufacturer                                                        \n",
       "JBL             75.185833    75.185833  119.777778    36   75.185833\n",
       "Jabra          173.412632   173.412632  105.421053    19  173.412632\n",
       "Beats          208.987692   208.987692  219.384615    13  208.987692\n",
       "Sony           103.803636   103.803636   31.000000    11  103.803636\n",
       "Aftershokz     123.578000   131.578000  180.400000    10  123.578000"
      ]
     },
     "execution_count": 302,
     "metadata": {},
     "output_type": "execute_result"
    }
   ],
   "source": [
    "Name_count_CoolBlue=EarBuds_CoolBlue.groupby('Manufacturer').count()\n",
    "Name_count_CoolBlue=Name_count_CoolBlue['Name']\n",
    "\n",
    "Grouped_Man_CoolBlue = pd.concat([EarBuds_CoolBlue.groupby('Manufacturer').mean(),Name_count_CoolBlue], axis=1, sort=False)\n",
    "Grouped_Man_CoolBlue['Price']=Grouped_Man_CoolBlue['Price [EUR]']\n",
    "Grouped_Man_CoolBlue=Grouped_Man_CoolBlue.sort_values('Name',ascending=False)\n",
    "\n",
    "print('CoolBlue:')\n",
    "Grouped_Man_CoolBlue.head()"
   ]
  },
  {
   "cell_type": "code",
   "execution_count": 303,
   "metadata": {
    "scrolled": true
   },
   "outputs": [
    {
     "data": {
      "text/plain": [
       "(0, 200)"
      ]
     },
     "execution_count": 303,
     "metadata": {},
     "output_type": "execute_result"
    },
    {
     "data": {
      "image/png": "[encoded data removed]",
      "text/plain": [
       "<Figure size 1584x360 with 1 Axes>"
      ]
     },
     "metadata": {},
     "output_type": "display_data"
    },
    {
     "data": {
      "image/png": "[encoded data removed]",
      "text/plain": [
       "<Figure size 1584x360 with 1 Axes>"
      ]
     },
     "metadata": {},
     "output_type": "display_data"
    }
   ],
   "source": [
    "plt.figure(figsize=(22,5))\n",
    "sns.barplot(x=Grouped_Man_Bol.index[0:20],y=Grouped_Man_Bol.Price.iloc[0:20],palette='Greens')\n",
    "plt.ylim([0,200])\n",
    "\n",
    "plt.figure(figsize=(22,5))\n",
    "sns.barplot(x=Grouped_Man_CoolBlue.index[0:20],y=Grouped_Man_CoolBlue.Price.iloc[0:20],palette='Greens')\n",
    "plt.ylim([0,200])"
   ]
  },
  {
   "cell_type": "markdown",
   "metadata": {},
   "source": [
    "First note that the y-axis are scaled such that the graphs can be compared. This figure indeed confirms my hypothesis. \n",
    "\n",
    "Now, let's not compare average price but compare prices on product level. To do so, I would like to consider 5 top tier brands:\n",
    "    - JBL\n",
    "    - Jabra\n",
    "    - Sony\n",
    "    - Bose\n",
    "    - Huawei\n",
    "    \n",
    "Let's first start by coding this for JBL afterwhich I can loop over the different brand names. I first code this for JBL for code-verification purposes. "
   ]
  },
  {
   "cell_type": "code",
   "execution_count": 305,
   "metadata": {
    "scrolled": true
   },
   "outputs": [
    {
     "data": {
      "text/plain": [
       "0             tune 220tws\n",
       "1             tune 120tws\n",
       "21             free inear\n",
       "24     under armour flash\n",
       "33            live 300tws\n",
       "66     endurance peak ear\n",
       "152     live 300tws inear\n",
       "Name: Name, dtype: object"
      ]
     },
     "execution_count": 305,
     "metadata": {},
     "output_type": "execute_result"
    }
   ],
   "source": [
    "# Let's consider JBL\n",
    "Manuf='JBL'\n",
    "\n",
    "## Selection of comparison \n",
    "EarBuds_Bol_Compare = EarBuds_Bol[EarBuds_Bol['Manufacturer']==Manuf]\n",
    "EarBuds_CoolBlue_Compare = EarBuds_CoolBlue[EarBuds_CoolBlue['Manufacturer']==Manuf] \n",
    "\n",
    "## Simplify names\n",
    "EarBuds_Bol_Compare['Name']=EarBuds_Bol_Compare['Name'].map(lambda x: simplify_string(x,True,True))\n",
    "EarBuds_CoolBlue_Compare['Name']=EarBuds_CoolBlue_Compare['Name'].map(lambda x: simplify_string(x,True,True))\n",
    "\n",
    "## Remove duplicates from Bol since we are looping over Bol rows\n",
    "EarBuds_Bol_Compare.drop_duplicates(subset =\"Name\",keep = 'first', inplace = True)\n",
    "\n",
    "EarBuds_Bol_Compare['Name']"
   ]
  },
  {
   "cell_type": "markdown",
   "metadata": {},
   "source": [
    "We now see a nice clear dataframe with clean, filtered, and unique names. Let's now search in the CoolBlue data to find a match for each Bol name. The 'correlation' between names, or one should call it similarity, is determined according the Levenshtein method, see the top of this script. This function was thoroughly verified by means of unit testing. Please contact me for further details. "
   ]
  },
  {
   "cell_type": "code",
   "execution_count": 315,
   "metadata": {},
   "outputs": [
    {
     "ename": "IndexError",
     "evalue": "string index out of range",
     "output_type": "error",
     "traceback": [
      "\u001b[1;31m---------------------------------------------------------------------------\u001b[0m",
      "\u001b[1;31mIndexError\u001b[0m                                Traceback (most recent call last)",
      "\u001b[1;32m<ipython-input-315-3818ae538717>\u001b[0m in \u001b[0;36m<module>\u001b[1;34m\u001b[0m\n\u001b[1;32m----> 1\u001b[1;33m \u001b[0mlevenshtein_ratio_and_distance\u001b[0m\u001b[1;33m(\u001b[0m\u001b[1;34m'rens'\u001b[0m\u001b[1;33m,\u001b[0m\u001b[1;34m'jessica'\u001b[0m\u001b[1;33m,\u001b[0m\u001b[1;32mTrue\u001b[0m\u001b[1;33m)\u001b[0m\u001b[1;33m\u001b[0m\u001b[1;33m\u001b[0m\u001b[0m\n\u001b[0m",
      "\u001b[1;32m<ipython-input-310-52d1112af5fa>\u001b[0m in \u001b[0;36mlevenshtein_ratio_and_distance\u001b[1;34m(s, t, ratio_calc)\u001b[0m\n\u001b[0;32m     30\u001b[0m     \u001b[1;32mfor\u001b[0m \u001b[0mcol\u001b[0m \u001b[1;32min\u001b[0m \u001b[0mrange\u001b[0m\u001b[1;33m(\u001b[0m\u001b[1;36m1\u001b[0m\u001b[1;33m,\u001b[0m \u001b[0mR\u001b[0m\u001b[1;33m)\u001b[0m\u001b[1;33m:\u001b[0m\u001b[1;33m\u001b[0m\u001b[1;33m\u001b[0m\u001b[0m\n\u001b[0;32m     31\u001b[0m         \u001b[1;32mfor\u001b[0m \u001b[0mrow\u001b[0m \u001b[1;32min\u001b[0m \u001b[0mrange\u001b[0m\u001b[1;33m(\u001b[0m\u001b[1;36m1\u001b[0m\u001b[1;33m,\u001b[0m \u001b[0mC\u001b[0m\u001b[1;33m)\u001b[0m\u001b[1;33m:\u001b[0m\u001b[1;33m\u001b[0m\u001b[1;33m\u001b[0m\u001b[0m\n\u001b[1;32m---> 32\u001b[1;33m             \u001b[1;32mif\u001b[0m \u001b[0ms\u001b[0m\u001b[1;33m[\u001b[0m\u001b[0mrow\u001b[0m\u001b[1;33m-\u001b[0m\u001b[1;36m1\u001b[0m\u001b[1;33m]\u001b[0m \u001b[1;33m==\u001b[0m \u001b[0mt\u001b[0m\u001b[1;33m[\u001b[0m\u001b[0mcol\u001b[0m\u001b[1;33m-\u001b[0m\u001b[1;36m1\u001b[0m\u001b[1;33m]\u001b[0m\u001b[1;33m:\u001b[0m\u001b[1;33m\u001b[0m\u001b[1;33m\u001b[0m\u001b[0m\n\u001b[0m\u001b[0;32m     33\u001b[0m                 \u001b[0mcost\u001b[0m \u001b[1;33m=\u001b[0m \u001b[1;36m0\u001b[0m \u001b[1;31m# If the characters are the same in the two strings in a given position [i,j] then the cost is 0\u001b[0m\u001b[1;33m\u001b[0m\u001b[1;33m\u001b[0m\u001b[0m\n\u001b[0;32m     34\u001b[0m             \u001b[1;32melse\u001b[0m\u001b[1;33m:\u001b[0m\u001b[1;33m\u001b[0m\u001b[1;33m\u001b[0m\u001b[0m\n",
      "\u001b[1;31mIndexError\u001b[0m: string index out of range"
     ]
    }
   ],
   "source": [
    " \n",
    "\n",
    "levenshtein_ratio_and_distance('rens','jessica',True)"
   ]
  },
  {
   "cell_type": "code",
   "execution_count": 320,
   "metadata": {
    "scrolled": true
   },
   "outputs": [],
   "source": [
    "Name_corr = np.zeros((len(EarBuds_Bol_Compare['Name']),len(EarBuds_CoolBlue_Compare['Name'])))  # This will be 'the correlation matrix'. Aka the matrix which contains the results of the levenshtein_ratio_and_distance \n",
    "Product_combinations=[]\n",
    "for j in range(0,len(EarBuds_Bol_Compare['Name'])):\n",
    "    for i in range(0,len(EarBuds_CoolBlue_Compare['Name'])):\n",
    "        Name_corr[j,i]=levenshtein_ratio_and_distance(EarBuds_Bol_Compare['Name'].iloc[j],EarBuds_CoolBlue_Compare['Name'].iloc[i],True)\n",
    "    CoolBlue_row=np.argmax(Name_corr[j,:])\n",
    "    if np.max(Name_corr[j,:]) > 0.85:\n",
    "        Price_Bol=EarBuds_Bol_Compare['Price [EUR]'].iloc[j]    \n",
    "        Price_CoolBlue=EarBuds_CoolBlue_Compare['Price [EUR]'].iloc[CoolBlue_row]    \n",
    "        Product_combinations.append([Manuf,EarBuds_Bol_Compare['Name'].iloc[j],Price_Bol,Price_CoolBlue])\n",
    "#with pd.option_context('display.max_rows', None, 'display.max_columns', None):  # more options can be specified also\n",
    "#    print(pd.DataFrame(Name_corr,index=EarBuds_Bol_Compare['Name'],columns=EarBuds_CoolBlue_Compare['Name']))\n"
   ]
  },
  {
   "cell_type": "code",
   "execution_count": 321,
   "metadata": {},
   "outputs": [
    {
     "data": {
      "text/plain": [
       "[['JBL', 'tune 220tws', 71.14, 78.0],\n",
       " ['JBL', 'tune 120tws', 65.0, 85.99],\n",
       " ['JBL', 'under armour flash', 125.0, 138.99],\n",
       " ['JBL', 'live 300tws', 128.0, 119.99]]"
      ]
     },
     "execution_count": 321,
     "metadata": {},
     "output_type": "execute_result"
    }
   ],
   "source": [
    "Product_combinations"
   ]
  },
  {
   "cell_type": "markdown",
   "metadata": {
    "scrolled": true
   },
   "source": [
    "That looks good. Note that I have played with the cutoff of levensthein > 0.85 to obtain this result.\n",
    "\n",
    "Now, let's loop over the different producers."
   ]
  },
  {
   "cell_type": "code",
   "execution_count": 338,
   "metadata": {},
   "outputs": [
    {
     "name": "stdout",
     "output_type": "stream",
     "text": [
      "    Manuf                Name   Price  Retailer\n",
      "0     JBL         tune 220tws   71.14       Bol\n",
      "1     JBL         tune 220tws   78.00  CoolBlue\n",
      "2     JBL         tune 120tws   65.00       Bol\n",
      "3     JBL         tune 120tws   85.99  CoolBlue\n",
      "4     JBL  under armour flash  125.00       Bol\n",
      "5     JBL  under armour flash  138.99  CoolBlue\n",
      "6     JBL         live 300tws  128.00       Bol\n",
      "7     JBL         live 300tws  119.99  CoolBlue\n",
      "8     JBL  endurance peak ear  100.10       Bol\n",
      "9     JBL  endurance peak ear   45.99  CoolBlue\n",
      "10    JBL   live 300tws inear  119.99       Bol\n",
      "11    JBL   live 300tws inear  119.99  CoolBlue\n",
      "12  Jabra    elite active 65t  123.49       Bol\n",
      "13  Jabra    elite active 65t  155.99  CoolBlue\n",
      "14  Jabra    elite active 75t  193.00       Bol\n"
     ]
    }
   ],
   "source": [
    "Product_combinations=[]\n",
    "Product_combinations_diff=[]\n",
    "\n",
    "Manufs='JBL Jabra Sony Bose Huawei'.split()\n",
    "count=0\n",
    "for Manuf in Manufs:\n",
    "    ## Selection of comparison \n",
    "    EarBuds_Bol_Compare = EarBuds_Bol[EarBuds_Bol['Manufacturer']==Manuf]\n",
    "    EarBuds_CoolBlue_Compare = EarBuds_CoolBlue[EarBuds_CoolBlue['Manufacturer']==Manuf] \n",
    "    \n",
    "    ## Simplify names\n",
    "    EarBuds_Bol_Compare['Name']=EarBuds_Bol_Compare['Name'].map(lambda x: simplify_string(x,True,True))\n",
    "    EarBuds_CoolBlue_Compare['Name']=EarBuds_CoolBlue_Compare['Name'].map(lambda x: simplify_string(x,True,True))\n",
    "\n",
    "    ## Remove duplicates from Bol since we are looping over Bol rows\n",
    "    EarBuds_Bol_Compare.drop_duplicates(subset =\"Name\",keep = 'first', inplace = True)\n",
    "    \n",
    "    Name_corr = np.zeros((len(EarBuds_Bol_Compare['Name']),len(EarBuds_CoolBlue_Compare['Name'])))  # This will be 'the correlation matrix'. Aka the matrix which contains the results of the levenshtein_ratio_and_distance \n",
    "\n",
    "    for j in range(0,len(EarBuds_Bol_Compare['Name'])):\n",
    "        for i in range(0,len(EarBuds_CoolBlue_Compare['Name'])):\n",
    "\n",
    "            Name_corr[j,i]=levenshtein_ratio_and_distance(EarBuds_Bol_Compare['Name'].iloc[j],EarBuds_CoolBlue_Compare['Name'].iloc[i],True)\n",
    "        CoolBlue_row=np.argmax(Name_corr[j,:])\n",
    "        if np.max(Name_corr[j,:]) > 0.7:\n",
    "            Price_Bol=EarBuds_Bol_Compare['Price [EUR]'].iloc[j]    \n",
    "            Price_CoolBlue=EarBuds_CoolBlue_Compare['Price [EUR]'].iloc[CoolBlue_row]    \n",
    "            Product_combinations.append([Manuf,EarBuds_Bol_Compare['Name'].iloc[j],Price_Bol,'Bol'])\n",
    "            Product_combinations.append([Manuf,EarBuds_Bol_Compare['Name'].iloc[j],Price_CoolBlue,'CoolBlue'])\n",
    "            Product_combinations_diff.append([Manuf,EarBuds_Bol_Compare['Name'].iloc[j],(Price_CoolBlue-Price_Bol)/Price_CoolBlue*100])\n",
    "Product_combi = pd.DataFrame(Product_combinations,columns=['Manuf','Name','Price','Retailer'])\n",
    "print(Product_combi.head(15))\n",
    "Product_combi.drop([8,9],inplace=True)"
   ]
  },
  {
   "cell_type": "markdown",
   "metadata": {},
   "source": [
    "One outlier was found, that one have been deleted. Further, this are all absolute prices. Let's also normalise these:"
   ]
  },
  {
   "cell_type": "code",
   "execution_count": 345,
   "metadata": {
    "scrolled": true
   },
   "outputs": [
    {
     "name": "stdout",
     "output_type": "stream",
     "text": [
      "     Manuf                   Name  Discount compared to CoolBlue\n",
      "0      JBL            tune 220tws                       8.794872\n",
      "1      JBL            tune 120tws                      24.409815\n",
      "2      JBL     under armour flash                      10.065472\n",
      "3      JBL            live 300tws                      -6.675556\n",
      "4      JBL     endurance peak ear                    -117.656012\n",
      "5      JBL      live 300tws inear                       0.000000\n",
      "6    Jabra       elite active 65t                      20.834669\n",
      "7    Jabra       elite active 75t                       2.525253\n",
      "8    Jabra              elite 65t                      24.037431\n",
      "9    Jabra                  elite                       1.541499\n",
      "10    Sony              wf1000xxx                      14.070352\n",
      "11    Sony                wfxb700                       5.723517\n",
      "12    Bose  soundsport free inear                       4.687500\n",
      "13  Huawei            freebuds 3i                       0.000000\n",
      "14  Huawei             freebuds 3                       0.000000\n"
     ]
    }
   ],
   "source": [
    "Product_combi_diff = pd.DataFrame(Product_combinations_diff,columns=['Manuf','Name','Discount compared to CoolBlue'])\n",
    "print(Product_combi_diff.head(15))\n",
    "Product_combi_diff.drop([4],inplace=True)"
   ]
  },
  {
   "cell_type": "markdown",
   "metadata": {},
   "source": [
    "Let's now plot both data frames on a 'per manufacturer bases' to visually observe who of the two is the cheaper."
   ]
  },
  {
   "cell_type": "code",
   "execution_count": 343,
   "metadata": {},
   "outputs": [
    {
     "data": {
      "image/png": "[encoded data removed]",
      "text/plain": [
       "<Figure size 1440x1440 with 5 Axes>"
      ]
     },
     "metadata": {},
     "output_type": "display_data"
    }
   ],
   "source": [
    "fig = plt.figure(figsize=(20,20))\n",
    "ax=[0,0,0,0,0]\n",
    "ax[0] = fig.add_subplot(321)\n",
    "ax[1] = fig.add_subplot(323)\n",
    "ax[2] = fig.add_subplot(325)\n",
    "ax[3] = fig.add_subplot(222)\n",
    "ax[4] = fig.add_subplot(224)\n",
    "k=0\n",
    "for Manuf in Manufs:\n",
    "    #ax[k].set_title(Manuf)\n",
    "    ax[k]=sns.barplot(x='Name', y='Price', hue='Retailer', data=Product_combi[Product_combi['Manuf']==Manuf],ax=ax[k])\n",
    "    k+=1"
   ]
  },
  {
   "cell_type": "code",
   "execution_count": 87,
   "metadata": {},
   "outputs": [
    {
     "data": {
      "image/png": "[encoded data removed]",
      "text/plain": [
       "<Figure size 1440x1440 with 5 Axes>"
      ]
     },
     "metadata": {},
     "output_type": "display_data"
    }
   ],
   "source": [
    "fig = plt.figure(figsize=(20,20))\n",
    "ax=[0,0,0,0,0]\n",
    "ax[0] = fig.add_subplot(321)\n",
    "ax[1] = fig.add_subplot(323)\n",
    "ax[2] = fig.add_subplot(325)\n",
    "ax[3] = fig.add_subplot(222)\n",
    "ax[4] = fig.add_subplot(224)\n",
    "k=0\n",
    "for Manuf in Manufs:\n",
    "    #ax[k].set_title(Manuf)\n",
    "    ax[k]=sns.barplot(x='Name', y='Discount compared to CoolBlue', data=Product_combi_diff[Product_combi_diff['Manuf']==Manuf],ax=ax[k])\n",
    "    k+=1"
   ]
  },
  {
   "cell_type": "markdown",
   "metadata": {},
   "source": [
    "From the above it can be concluded that Bol is significantly cheaper compared to CoolBlue. Bol.com is for the selected brands often in the order of 10% lower compared to CoolBlue."
   ]
  },
  {
   "cell_type": "code",
   "execution_count": 348,
   "metadata": {},
   "outputs": [
    {
     "data": {
      "text/html": [
       "<div>\n",
       "<style scoped>\n",
       "    .dataframe tbody tr th:only-of-type {\n",
       "        vertical-align: middle;\n",
       "    }\n",
       "\n",
       "    .dataframe tbody tr th {\n",
       "        vertical-align: top;\n",
       "    }\n",
       "\n",
       "    .dataframe thead th {\n",
       "        text-align: right;\n",
       "    }\n",
       "</style>\n",
       "<table border=\"1\" class=\"dataframe\">\n",
       "  <thead>\n",
       "    <tr style=\"text-align: right;\">\n",
       "      <th></th>\n",
       "      <th>Manufacturer</th>\n",
       "      <th>Name</th>\n",
       "      <th>Price [EUR]</th>\n",
       "      <th>Discount</th>\n",
       "      <th>Ret P [EUR]</th>\n",
       "      <th>Stars [x/5.0]</th>\n",
       "      <th>S_count</th>\n",
       "      <th>Description</th>\n",
       "      <th>Pros</th>\n",
       "      <th>Cons</th>\n",
       "      <th>Reviews</th>\n",
       "    </tr>\n",
       "  </thead>\n",
       "  <tbody>\n",
       "    <tr>\n",
       "      <th>0</th>\n",
       "      <td>JBL</td>\n",
       "      <td>Tune 220TWS - Volledig draadloze oordopjes -</td>\n",
       "      <td>71.14</td>\n",
       "      <td>29</td>\n",
       "      <td>100.20</td>\n",
       "      <td>4.0</td>\n",
       "      <td>164</td>\n",
       "      <td>Met de JBL TUNE 220TWS oordopjes geniet je van...</td>\n",
       "      <td>[Batterij tot 20 uur, Hands-free bellen, Volle...</td>\n",
       "      <td>[Niet waterdicht]</td>\n",
       "      <td>[Volgende dag in huis door bol.com! Makkelijk ...</td>\n",
       "    </tr>\n",
       "    <tr>\n",
       "      <th>1</th>\n",
       "      <td>JBL</td>\n",
       "      <td>Tune 120TWS - Zwart - Volledige draadloze</td>\n",
       "      <td>65.00</td>\n",
       "      <td>19</td>\n",
       "      <td>80.25</td>\n",
       "      <td>4.1</td>\n",
       "      <td>183</td>\n",
       "      <td>Maak kennis met de nieuwste (2019) volledig dr...</td>\n",
       "      <td>[Volledig draadloos, 16 uur batterij, Bedienin...</td>\n",
       "      <td>[In-ear pasvorm is niet voor iedereen, Niet vo...</td>\n",
       "      <td>[Ik kon al haast niet wachten tot de JBL oortj...</td>\n",
       "    </tr>\n",
       "    <tr>\n",
       "      <th>2</th>\n",
       "      <td>Apple</td>\n",
       "      <td>Airpods Pro - met Active Noise</td>\n",
       "      <td>239.00</td>\n",
       "      <td>0</td>\n",
       "      <td>239.00</td>\n",
       "      <td>4.5</td>\n",
       "      <td>86</td>\n",
       "      <td>De nieuwe oortjes van Apple, de Apple Airpods ...</td>\n",
       "      <td>[Noise cancelling en transparantie modus, Tota...</td>\n",
       "      <td>[Geen volumesensor op het oortje - wel via iPh...</td>\n",
       "      <td>[Ik had geen hoge verwachtingen van het noice ...</td>\n",
       "    </tr>\n",
       "    <tr>\n",
       "      <th>3</th>\n",
       "      <td>Samsung</td>\n",
       "      <td>Galaxy Buds+ -</td>\n",
       "      <td>126.95</td>\n",
       "      <td>0</td>\n",
       "      <td>126.95</td>\n",
       "      <td>4.6</td>\n",
       "      <td>217</td>\n",
       "      <td>Waan jezelf bij het concert van je favoriete a...</td>\n",
       "      <td>[Spatwaterdicht IP certificering, Het beste ge...</td>\n",
       "      <td>[Geen noise cancelling]</td>\n",
       "      <td>[Geschreven bij Samsung Galaxy Buds+ - Blauw, ...</td>\n",
       "    </tr>\n",
       "    <tr>\n",
       "      <th>4</th>\n",
       "      <td>Samsung</td>\n",
       "      <td>Galaxy Buds -</td>\n",
       "      <td>94.99</td>\n",
       "      <td>36</td>\n",
       "      <td>148.42</td>\n",
       "      <td>4.5</td>\n",
       "      <td>386</td>\n",
       "      <td>Samsung Galaxy Buds Draadloze headset - zilver...</td>\n",
       "      <td>[Inclusief draadloos laden-case, Gemakkelijk t...</td>\n",
       "      <td>[Draadloos laden-case niet los na te bestellen]</td>\n",
       "      <td>[Geschreven bij Samsung Galaxy Buds - Wit, 4.0...</td>\n",
       "    </tr>\n",
       "  </tbody>\n",
       "</table>\n",
       "</div>"
      ],
      "text/plain": [
       "  Manufacturer                                          Name  Price [EUR]  \\\n",
       "0          JBL  Tune 220TWS - Volledig draadloze oordopjes -        71.14   \n",
       "1          JBL     Tune 120TWS - Zwart - Volledige draadloze        65.00   \n",
       "2        Apple                Airpods Pro - met Active Noise       239.00   \n",
       "3      Samsung                                Galaxy Buds+ -       126.95   \n",
       "4      Samsung                                 Galaxy Buds -        94.99   \n",
       "\n",
       "   Discount  Ret P [EUR] Stars [x/5.0]  S_count  \\\n",
       "0        29       100.20           4.0      164   \n",
       "1        19        80.25           4.1      183   \n",
       "2         0       239.00           4.5       86   \n",
       "3         0       126.95           4.6      217   \n",
       "4        36       148.42           4.5      386   \n",
       "\n",
       "                                         Description  \\\n",
       "0  Met de JBL TUNE 220TWS oordopjes geniet je van...   \n",
       "1  Maak kennis met de nieuwste (2019) volledig dr...   \n",
       "2  De nieuwe oortjes van Apple, de Apple Airpods ...   \n",
       "3  Waan jezelf bij het concert van je favoriete a...   \n",
       "4  Samsung Galaxy Buds Draadloze headset - zilver...   \n",
       "\n",
       "                                                Pros  \\\n",
       "0  [Batterij tot 20 uur, Hands-free bellen, Volle...   \n",
       "1  [Volledig draadloos, 16 uur batterij, Bedienin...   \n",
       "2  [Noise cancelling en transparantie modus, Tota...   \n",
       "3  [Spatwaterdicht IP certificering, Het beste ge...   \n",
       "4  [Inclusief draadloos laden-case, Gemakkelijk t...   \n",
       "\n",
       "                                                Cons  \\\n",
       "0                                  [Niet waterdicht]   \n",
       "1  [In-ear pasvorm is niet voor iedereen, Niet vo...   \n",
       "2  [Geen volumesensor op het oortje - wel via iPh...   \n",
       "3                            [Geen noise cancelling]   \n",
       "4    [Draadloos laden-case niet los na te bestellen]   \n",
       "\n",
       "                                             Reviews  \n",
       "0  [Volgende dag in huis door bol.com! Makkelijk ...  \n",
       "1  [Ik kon al haast niet wachten tot de JBL oortj...  \n",
       "2  [Ik had geen hoge verwachtingen van het noice ...  \n",
       "3  [Geschreven bij Samsung Galaxy Buds+ - Blauw, ...  \n",
       "4  [Geschreven bij Samsung Galaxy Buds - Wit, 4.0...  "
      ]
     },
     "execution_count": 348,
     "metadata": {},
     "output_type": "execute_result"
    }
   ],
   "source": [
    "EarBuds_Bol['Discount']=EarBuds_Bol['Discount'].apply(lambda x: int(x[:-1]))\n",
    "EarBuds_CoolBlue['Discount']=EarBuds_CoolBlue['Discount'].apply(lambda x: int(x[:-1]))\n",
    "EarBuds_Bol.head()"
   ]
  },
  {
   "cell_type": "code",
   "execution_count": 349,
   "metadata": {},
   "outputs": [],
   "source": [
    "EarBuds_Bol_disc=EarBuds_Bol[EarBuds_Bol['Discount']>0]\n",
    "EarBuds_CoolBlue_disc=EarBuds_CoolBlue[EarBuds_CoolBlue['Discount']>0]"
   ]
  },
  {
   "cell_type": "code",
   "execution_count": 350,
   "metadata": {},
   "outputs": [
    {
     "name": "stdout",
     "output_type": "stream",
     "text": [
      "# of discounted items Bol:  85\n",
      "# of discounted items CoolBlue:  4\n"
     ]
    }
   ],
   "source": [
    "print('# of discounted items Bol: ',len(EarBuds_Bol_disc))\n",
    "print('# of discounted items CoolBlue: ',len(EarBuds_CoolBlue_disc))"
   ]
  },
  {
   "cell_type": "code",
   "execution_count": 351,
   "metadata": {},
   "outputs": [
    {
     "name": "stdout",
     "output_type": "stream",
     "text": [
      "Percentage discount items Bol:  29.5 %\n",
      "Percentage discount items CoolBlue:  2.4 %\n"
     ]
    }
   ],
   "source": [
    "print('Percentage discount items Bol: ',round(len(EarBuds_Bol_disc)/len(EarBuds_Bol)*100,1),'%')\n",
    "print('Percentage discount items CoolBlue: ',round(len(EarBuds_CoolBlue_disc)/len(EarBuds_CoolBlue)*100,1),'%')"
   ]
  },
  {
   "cell_type": "markdown",
   "metadata": {},
   "source": [
    "# NLP: Reviews\n",
    "In E-commerce, descriptions are often used to boost a product. Several features should stand out in the description and that should yield a high raking. It would be benefitial to know what kind of description yields better ratings. And in particular it would be benefitial to predict the rating of a certain description. \n",
    "\n",
    "This code was predominantly written to \n",
    "\n",
    "## Bol.com"
   ]
  },
  {
   "cell_type": "code",
   "execution_count": 92,
   "metadata": {},
   "outputs": [
    {
     "data": {
      "text/html": [
       "<div>\n",
       "<style scoped>\n",
       "    .dataframe tbody tr th:only-of-type {\n",
       "        vertical-align: middle;\n",
       "    }\n",
       "\n",
       "    .dataframe tbody tr th {\n",
       "        vertical-align: top;\n",
       "    }\n",
       "\n",
       "    .dataframe thead th {\n",
       "        text-align: right;\n",
       "    }\n",
       "</style>\n",
       "<table border=\"1\" class=\"dataframe\">\n",
       "  <thead>\n",
       "    <tr style=\"text-align: right;\">\n",
       "      <th></th>\n",
       "      <th>Manufacturer</th>\n",
       "      <th>Name</th>\n",
       "      <th>Stars [x/5.0]</th>\n",
       "      <th>S_count</th>\n",
       "      <th>Description</th>\n",
       "      <th>Pros</th>\n",
       "      <th>Cons</th>\n",
       "    </tr>\n",
       "  </thead>\n",
       "  <tbody>\n",
       "    <tr>\n",
       "      <th>0</th>\n",
       "      <td>JBL</td>\n",
       "      <td>Tune 220TWS - Volledig draadloze oordopjes -</td>\n",
       "      <td>4.0</td>\n",
       "      <td>164</td>\n",
       "      <td>Met de JBL TUNE 220TWS oordopjes geniet je van...</td>\n",
       "      <td>[Batterij tot 20 uur, Hands-free bellen, Volle...</td>\n",
       "      <td>[Niet waterdicht]</td>\n",
       "    </tr>\n",
       "    <tr>\n",
       "      <th>1</th>\n",
       "      <td>JBL</td>\n",
       "      <td>Tune 120TWS - Zwart - Volledige draadloze</td>\n",
       "      <td>4.1</td>\n",
       "      <td>183</td>\n",
       "      <td>Maak kennis met de nieuwste (2019) volledig dr...</td>\n",
       "      <td>[Volledig draadloos, 16 uur batterij, Bedienin...</td>\n",
       "      <td>[In-ear pasvorm is niet voor iedereen, Niet vo...</td>\n",
       "    </tr>\n",
       "    <tr>\n",
       "      <th>2</th>\n",
       "      <td>Apple</td>\n",
       "      <td>Airpods Pro - met Active Noise</td>\n",
       "      <td>4.5</td>\n",
       "      <td>86</td>\n",
       "      <td>De nieuwe oortjes van Apple, de Apple Airpods ...</td>\n",
       "      <td>[Noise cancelling en transparantie modus, Tota...</td>\n",
       "      <td>[Geen volumesensor op het oortje - wel via iPh...</td>\n",
       "    </tr>\n",
       "    <tr>\n",
       "      <th>3</th>\n",
       "      <td>Samsung</td>\n",
       "      <td>Galaxy Buds+ -</td>\n",
       "      <td>4.6</td>\n",
       "      <td>217</td>\n",
       "      <td>Waan jezelf bij het concert van je favoriete a...</td>\n",
       "      <td>[Spatwaterdicht IP certificering, Het beste ge...</td>\n",
       "      <td>[Geen noise cancelling]</td>\n",
       "    </tr>\n",
       "    <tr>\n",
       "      <th>4</th>\n",
       "      <td>Samsung</td>\n",
       "      <td>Galaxy Buds -</td>\n",
       "      <td>4.5</td>\n",
       "      <td>386</td>\n",
       "      <td>Samsung Galaxy Buds Draadloze headset - zilver...</td>\n",
       "      <td>[Inclusief draadloos laden-case, Gemakkelijk t...</td>\n",
       "      <td>[Draadloos laden-case niet los na te bestellen]</td>\n",
       "    </tr>\n",
       "  </tbody>\n",
       "</table>\n",
       "</div>"
      ],
      "text/plain": [
       "  Manufacturer                                          Name  Stars [x/5.0]  \\\n",
       "0          JBL  Tune 220TWS - Volledig draadloze oordopjes -            4.0   \n",
       "1          JBL     Tune 120TWS - Zwart - Volledige draadloze            4.1   \n",
       "2        Apple                Airpods Pro - met Active Noise            4.5   \n",
       "3      Samsung                                Galaxy Buds+ -            4.6   \n",
       "4      Samsung                                 Galaxy Buds -            4.5   \n",
       "\n",
       "   S_count                                        Description  \\\n",
       "0      164  Met de JBL TUNE 220TWS oordopjes geniet je van...   \n",
       "1      183  Maak kennis met de nieuwste (2019) volledig dr...   \n",
       "2       86  De nieuwe oortjes van Apple, de Apple Airpods ...   \n",
       "3      217  Waan jezelf bij het concert van je favoriete a...   \n",
       "4      386  Samsung Galaxy Buds Draadloze headset - zilver...   \n",
       "\n",
       "                                                Pros  \\\n",
       "0  [Batterij tot 20 uur, Hands-free bellen, Volle...   \n",
       "1  [Volledig draadloos, 16 uur batterij, Bedienin...   \n",
       "2  [Noise cancelling en transparantie modus, Tota...   \n",
       "3  [Spatwaterdicht IP certificering, Het beste ge...   \n",
       "4  [Inclusief draadloos laden-case, Gemakkelijk t...   \n",
       "\n",
       "                                                Cons  \n",
       "0                                  [Niet waterdicht]  \n",
       "1  [In-ear pasvorm is niet voor iedereen, Niet vo...  \n",
       "2  [Geen volumesensor op het oortje - wel via iPh...  \n",
       "3                            [Geen noise cancelling]  \n",
       "4    [Draadloos laden-case niet los na te bestellen]  "
      ]
     },
     "execution_count": 92,
     "metadata": {},
     "output_type": "execute_result"
    }
   ],
   "source": [
    "EarBuds_Bol_description = EarBuds_Bol[['Manufacturer', 'Name','Stars [x/5.0]', 'S_count', 'Description', 'Pros', 'Cons']]\n",
    "EarBuds_Bol_description=EarBuds_Bol_description[EarBuds_Bol_description['Stars [x/5.0]'] != 'No stars']\n",
    "EarBuds_Bol_description['Stars [x/5.0]']=EarBuds_Bol_description['Stars [x/5.0]'].apply(float)\n",
    "EarBuds_Bol_description['S_count']=EarBuds_Bol_description['S_count'].apply(int)\n",
    "EarBuds_Bol_description.head()"
   ]
  },
  {
   "cell_type": "code",
   "execution_count": 93,
   "metadata": {},
   "outputs": [
    {
     "data": {
      "text/plain": [
       "<matplotlib.axes._subplots.AxesSubplot at 0x2cc79674888>"
      ]
     },
     "execution_count": 93,
     "metadata": {},
     "output_type": "execute_result"
    },
    {
     "data": {
      "image/png": "[encoded data removed]",
      "text/plain": [
       "<Figure size 432x288 with 1 Axes>"
      ]
     },
     "metadata": {},
     "output_type": "display_data"
    },
    {
     "data": {
      "image/png": "[encoded data removed]",
      "text/plain": [
       "<Figure size 432x288 with 1 Axes>"
      ]
     },
     "metadata": {},
     "output_type": "display_data"
    }
   ],
   "source": [
    "plt.figure()\n",
    "sns.countplot(EarBuds_Bol_description['S_count'],color='green')\n",
    "plt.figure()\n",
    "sns.distplot(EarBuds_Bol_description['Stars [x/5.0]'],kde=True,color='green')"
   ]
  },
  {
   "cell_type": "code",
   "execution_count": 268,
   "metadata": {},
   "outputs": [
    {
     "ename": "TypeError",
     "evalue": "stars_to_rating() takes 1 positional argument but 2 were given",
     "output_type": "error",
     "traceback": [
      "\u001b[1;31m---------------------------------------------------------------------------\u001b[0m",
      "\u001b[1;31mTypeError\u001b[0m                                 Traceback (most recent call last)",
      "\u001b[1;32m<ipython-input-268-5924c62c6076>\u001b[0m in \u001b[0;36m<module>\u001b[1;34m\u001b[0m\n\u001b[1;32m----> 1\u001b[1;33m \u001b[0mEarBuds_Bol_description\u001b[0m\u001b[1;33m[\u001b[0m\u001b[1;34m'Rating'\u001b[0m\u001b[1;33m]\u001b[0m\u001b[1;33m=\u001b[0m\u001b[0mEarBuds_Bol_description\u001b[0m\u001b[1;33m[\u001b[0m\u001b[1;34m'Stars [x/5.0]'\u001b[0m\u001b[1;33m]\u001b[0m\u001b[1;33m.\u001b[0m\u001b[0mapply\u001b[0m\u001b[1;33m(\u001b[0m\u001b[1;32mlambda\u001b[0m \u001b[0mx\u001b[0m\u001b[1;33m:\u001b[0m \u001b[0mstars_to_rating\u001b[0m\u001b[1;33m(\u001b[0m\u001b[0mx\u001b[0m\u001b[1;33m,\u001b[0m\u001b[1;36m4.0\u001b[0m\u001b[1;33m)\u001b[0m\u001b[1;33m)\u001b[0m\u001b[1;33m\u001b[0m\u001b[1;33m\u001b[0m\u001b[0m\n\u001b[0m\u001b[0;32m      2\u001b[0m \u001b[0mEarBuds_Bol_description\u001b[0m\u001b[1;33m[\u001b[0m\u001b[1;34m'Description'\u001b[0m\u001b[1;33m]\u001b[0m\u001b[1;33m=\u001b[0m\u001b[0mEarBuds_Bol_description\u001b[0m\u001b[1;33m[\u001b[0m\u001b[1;34m'Description'\u001b[0m\u001b[1;33m]\u001b[0m\u001b[1;33m.\u001b[0m\u001b[0mapply\u001b[0m\u001b[1;33m(\u001b[0m\u001b[1;32mlambda\u001b[0m \u001b[0mx\u001b[0m\u001b[1;33m:\u001b[0m \u001b[0msimplify_string\u001b[0m\u001b[1;33m(\u001b[0m\u001b[0mx\u001b[0m\u001b[1;33m,\u001b[0m\u001b[1;32mTrue\u001b[0m\u001b[1;33m,\u001b[0m\u001b[1;32mFalse\u001b[0m\u001b[1;33m)\u001b[0m\u001b[1;33m)\u001b[0m\u001b[1;33m\u001b[0m\u001b[1;33m\u001b[0m\u001b[0m\n",
      "\u001b[1;32mD:\\ANACONDA\\lib\\site-packages\\pandas\\core\\series.py\u001b[0m in \u001b[0;36mapply\u001b[1;34m(self, func, convert_dtype, args, **kwds)\u001b[0m\n\u001b[0;32m   3846\u001b[0m             \u001b[1;32melse\u001b[0m\u001b[1;33m:\u001b[0m\u001b[1;33m\u001b[0m\u001b[1;33m\u001b[0m\u001b[0m\n\u001b[0;32m   3847\u001b[0m                 \u001b[0mvalues\u001b[0m \u001b[1;33m=\u001b[0m \u001b[0mself\u001b[0m\u001b[1;33m.\u001b[0m\u001b[0mastype\u001b[0m\u001b[1;33m(\u001b[0m\u001b[0mobject\u001b[0m\u001b[1;33m)\u001b[0m\u001b[1;33m.\u001b[0m\u001b[0mvalues\u001b[0m\u001b[1;33m\u001b[0m\u001b[1;33m\u001b[0m\u001b[0m\n\u001b[1;32m-> 3848\u001b[1;33m                 \u001b[0mmapped\u001b[0m \u001b[1;33m=\u001b[0m \u001b[0mlib\u001b[0m\u001b[1;33m.\u001b[0m\u001b[0mmap_infer\u001b[0m\u001b[1;33m(\u001b[0m\u001b[0mvalues\u001b[0m\u001b[1;33m,\u001b[0m \u001b[0mf\u001b[0m\u001b[1;33m,\u001b[0m \u001b[0mconvert\u001b[0m\u001b[1;33m=\u001b[0m\u001b[0mconvert_dtype\u001b[0m\u001b[1;33m)\u001b[0m\u001b[1;33m\u001b[0m\u001b[1;33m\u001b[0m\u001b[0m\n\u001b[0m\u001b[0;32m   3849\u001b[0m \u001b[1;33m\u001b[0m\u001b[0m\n\u001b[0;32m   3850\u001b[0m         \u001b[1;32mif\u001b[0m \u001b[0mlen\u001b[0m\u001b[1;33m(\u001b[0m\u001b[0mmapped\u001b[0m\u001b[1;33m)\u001b[0m \u001b[1;32mand\u001b[0m \u001b[0misinstance\u001b[0m\u001b[1;33m(\u001b[0m\u001b[0mmapped\u001b[0m\u001b[1;33m[\u001b[0m\u001b[1;36m0\u001b[0m\u001b[1;33m]\u001b[0m\u001b[1;33m,\u001b[0m \u001b[0mSeries\u001b[0m\u001b[1;33m)\u001b[0m\u001b[1;33m:\u001b[0m\u001b[1;33m\u001b[0m\u001b[1;33m\u001b[0m\u001b[0m\n",
      "\u001b[1;32mpandas\\_libs\\lib.pyx\u001b[0m in \u001b[0;36mpandas._libs.lib.map_infer\u001b[1;34m()\u001b[0m\n",
      "\u001b[1;32m<ipython-input-268-5924c62c6076>\u001b[0m in \u001b[0;36m<lambda>\u001b[1;34m(x)\u001b[0m\n\u001b[1;32m----> 1\u001b[1;33m \u001b[0mEarBuds_Bol_description\u001b[0m\u001b[1;33m[\u001b[0m\u001b[1;34m'Rating'\u001b[0m\u001b[1;33m]\u001b[0m\u001b[1;33m=\u001b[0m\u001b[0mEarBuds_Bol_description\u001b[0m\u001b[1;33m[\u001b[0m\u001b[1;34m'Stars [x/5.0]'\u001b[0m\u001b[1;33m]\u001b[0m\u001b[1;33m.\u001b[0m\u001b[0mapply\u001b[0m\u001b[1;33m(\u001b[0m\u001b[1;32mlambda\u001b[0m \u001b[0mx\u001b[0m\u001b[1;33m:\u001b[0m \u001b[0mstars_to_rating\u001b[0m\u001b[1;33m(\u001b[0m\u001b[0mx\u001b[0m\u001b[1;33m,\u001b[0m\u001b[1;36m4.0\u001b[0m\u001b[1;33m)\u001b[0m\u001b[1;33m)\u001b[0m\u001b[1;33m\u001b[0m\u001b[1;33m\u001b[0m\u001b[0m\n\u001b[0m\u001b[0;32m      2\u001b[0m \u001b[0mEarBuds_Bol_description\u001b[0m\u001b[1;33m[\u001b[0m\u001b[1;34m'Description'\u001b[0m\u001b[1;33m]\u001b[0m\u001b[1;33m=\u001b[0m\u001b[0mEarBuds_Bol_description\u001b[0m\u001b[1;33m[\u001b[0m\u001b[1;34m'Description'\u001b[0m\u001b[1;33m]\u001b[0m\u001b[1;33m.\u001b[0m\u001b[0mapply\u001b[0m\u001b[1;33m(\u001b[0m\u001b[1;32mlambda\u001b[0m \u001b[0mx\u001b[0m\u001b[1;33m:\u001b[0m \u001b[0msimplify_string\u001b[0m\u001b[1;33m(\u001b[0m\u001b[0mx\u001b[0m\u001b[1;33m,\u001b[0m\u001b[1;32mTrue\u001b[0m\u001b[1;33m,\u001b[0m\u001b[1;32mFalse\u001b[0m\u001b[1;33m)\u001b[0m\u001b[1;33m)\u001b[0m\u001b[1;33m\u001b[0m\u001b[1;33m\u001b[0m\u001b[0m\n",
      "\u001b[1;31mTypeError\u001b[0m: stars_to_rating() takes 1 positional argument but 2 were given"
     ]
    }
   ],
   "source": [
    "EarBuds_Bol_description['Rating']=EarBuds_Bol_description['Stars [x/5.0]'].apply(lambda x: stars_to_rating(x,4.0))\n",
    "EarBuds_Bol_description['Description']=EarBuds_Bol_description['Description'].apply(lambda x: simplify_string(x,True,False))\n"
   ]
  },
  {
   "cell_type": "code",
   "execution_count": 269,
   "metadata": {},
   "outputs": [
    {
     "name": "stdout",
     "output_type": "stream",
     "text": [
      "Total amount of unique words =  4530\n"
     ]
    }
   ],
   "source": [
    "from sklearn.feature_extraction.text import CountVectorizer\n",
    "\n",
    "VectCount = CountVectorizer()\n",
    "VectCount.fit(EarBuds_Bol_description['Description'])\n",
    "print('Total amount of unique words = ',len(VectCount.vocabulary_))"
   ]
  },
  {
   "cell_type": "markdown",
   "metadata": {},
   "source": [
    "The whole vocabulary is stored in the CountVectorizer VectCount. Now, lets see how this applies to the first 200 characters of the description of the first product. This is also known as the Bag-of-Words technique."
   ]
  },
  {
   "cell_type": "code",
   "execution_count": 110,
   "metadata": {},
   "outputs": [
    {
     "name": "stdout",
     "output_type": "stream",
     "text": [
      "  (0, 70)\t1\n",
      "  (0, 91)\t1\n",
      "  (0, 453)\t1\n",
      "  (0, 767)\t1\n",
      "  (0, 973)\t1\n",
      "  (0, 1089)\t2\n",
      "  (0, 1265)\t1\n",
      "  (0, 1456)\t1\n",
      "  (0, 1563)\t1\n",
      "  (0, 1757)\t1\n",
      "  (0, 1976)\t1\n",
      "  (0, 2029)\t1\n",
      "  (0, 2058)\t1\n",
      "  (0, 2203)\t1\n",
      "  (0, 2764)\t1\n",
      "  (0, 2783)\t2\n",
      "  (0, 3842)\t1\n",
      "  (0, 3949)\t1\n",
      "  (0, 4069)\t1\n",
      "  (0, 4220)\t1\n",
      "  (0, 4253)\t1\n",
      "  (0, 4269)\t1\n",
      "  (0, 4336)\t1\n",
      "  (0, 4469)\t1\n"
     ]
    }
   ],
   "source": [
    "FirstDescr_Bol = EarBuds_Bol_description['Description'][0]\n",
    "FirstDescr_Bol=FirstDescr_Bol[0:200]\n",
    "FirstDescr_Bol_trans = VectCount.transform([FirstDescr_Bol])\n",
    "print(FirstDescr_Bol_trans)"
   ]
  },
  {
   "cell_type": "markdown",
   "metadata": {},
   "source": [
    "We see that some words are present once in the description, but others 2 times. These values of course have to be scaled and normalised with respect to the full vocabulary. To this extend, I will use the tf-idf technique. Here is some background:\n",
    "\n",
    "TF-IDF stands for *term frequency-inverse document frequency*, and the tf-idf weight is a weight often used in information retrieval and text mining. This weight is a statistical measure used to evaluate how important a word is to a document in a collection or corpus. The importance increases proportionally to the number of times a word appears in the document but is offset by the frequency of the word in the corpus. Variations of the tf-idf weighting scheme are often used by search engines as a central tool in scoring and ranking a document's relevance given a user query.\n",
    "\n",
    "One of the simplest ranking functions is computed by summing the tf-idf for each query term; many more sophisticated ranking functions are variants of this simple model.\n",
    "\n",
    "Typically, the tf-idf weight is composed by two terms: the first computes the normalized Term Frequency (TF), aka. the number of times a word appears in a document, divided by the total number of words in that document; the second term is the Inverse Document Frequency (IDF), computed as the logarithm of the number of the documents in the corpus divided by the number of documents where the specific term appears.\n",
    "\n",
    "**TF: Term Frequency**, which measures how frequently a term occurs in a document. Since every document is different in length, it is possible that a term would appear much more times in long documents than shorter ones. Thus, the term frequency is often divided by the document length (aka. the total number of terms in the document) as a way of normalization: \n",
    "\n",
    "*TF(t) = (Number of times term t appears in a document) / (Total number of terms in the document).*\n",
    "\n",
    "**IDF: Inverse Document Frequency**, which measures how important a term is. While computing TF, all terms are considered equally important. However it is known that certain terms, such as \"is\", \"of\", and \"that\", may appear a lot of times but have little importance. Thus we need to weigh down the frequent terms while scale up the rare ones, by computing the following: \n",
    "\n",
    "*IDF(t) = log_e(Total number of documents / Number of documents with term t in it).*"
   ]
  },
  {
   "cell_type": "code",
   "execution_count": 112,
   "metadata": {},
   "outputs": [
    {
     "name": "stdout",
     "output_type": "stream",
     "text": [
      "  (0, 4469)\t0.18257418583505536\n",
      "  (0, 4336)\t0.18257418583505536\n",
      "  (0, 4269)\t0.18257418583505536\n",
      "  (0, 4253)\t0.18257418583505536\n",
      "  (0, 4220)\t0.18257418583505536\n",
      "  (0, 4069)\t0.18257418583505536\n",
      "  (0, 3949)\t0.18257418583505536\n",
      "  (0, 3842)\t0.18257418583505536\n",
      "  (0, 2783)\t0.3651483716701107\n",
      "  (0, 2764)\t0.18257418583505536\n",
      "  (0, 2203)\t0.18257418583505536\n",
      "  (0, 2058)\t0.18257418583505536\n",
      "  (0, 2029)\t0.18257418583505536\n",
      "  (0, 1976)\t0.18257418583505536\n",
      "  (0, 1757)\t0.18257418583505536\n",
      "  (0, 1563)\t0.18257418583505536\n",
      "  (0, 1456)\t0.18257418583505536\n",
      "  (0, 1265)\t0.18257418583505536\n",
      "  (0, 1089)\t0.3651483716701107\n",
      "  (0, 973)\t0.18257418583505536\n",
      "  (0, 767)\t0.18257418583505536\n",
      "  (0, 453)\t0.18257418583505536\n",
      "  (0, 91)\t0.18257418583505536\n",
      "  (0, 70)\t0.18257418583505536\n"
     ]
    }
   ],
   "source": [
    "from sklearn.feature_extraction.text import TfidfTransformer\n",
    "\n",
    "TfidfTrans_first = TfidfTransformer()\n",
    "TfidfTrans_first.fit(FirstDescr_Bol_trans)\n",
    "FirstDescr_Bol_trans_norm=TfidfTrans_first.transform(FirstDescr_Bol_trans)\n",
    "print(FirstDescr_Bol_trans_norm)\n"
   ]
  },
  {
   "cell_type": "markdown",
   "metadata": {},
   "source": [
    "All is scaled nicely. Further, the consistency with the word count of the first part of the first message can be recognised. Now, let's apply this to the full dataset:"
   ]
  },
  {
   "cell_type": "code",
   "execution_count": 114,
   "metadata": {},
   "outputs": [
    {
     "data": {
      "text/plain": [
       "<248x4530 sparse matrix of type '<class 'numpy.int64'>'\n",
       "\twith 32540 stored elements in Compressed Sparse Row format>"
      ]
     },
     "execution_count": 114,
     "metadata": {},
     "output_type": "execute_result"
    }
   ],
   "source": [
    "Descr_Bol_trans = VectCount.transform(EarBuds_Bol_description['Description'])\n",
    "Descr_Bol_trans"
   ]
  },
  {
   "cell_type": "code",
   "execution_count": 116,
   "metadata": {},
   "outputs": [
    {
     "data": {
      "text/plain": [
       "<248x4530 sparse matrix of type '<class 'numpy.float64'>'\n",
       "\twith 32540 stored elements in Compressed Sparse Row format>"
      ]
     },
     "execution_count": 116,
     "metadata": {},
     "output_type": "execute_result"
    }
   ],
   "source": [
    "TfidfTrans = TfidfTransformer()\n",
    "TfidfTrans.fit(Descr_Bol_trans)\n",
    "Descr_Bol_trans_norm=TfidfTrans.transform(Descr_Bol_trans)\n",
    "Descr_Bol_trans_norm"
   ]
  },
  {
   "cell_type": "code",
   "execution_count": 199,
   "metadata": {},
   "outputs": [],
   "source": [
    "from sklearn.model_selection import train_test_split\n",
    "\n",
    "descr_train, descr_test, star_train, star_test = train_test_split(Descr_Bol_trans_norm, EarBuds_Bol_description['Rating'], test_size=0.3,random_state=42)\n"
   ]
  },
  {
   "cell_type": "code",
   "execution_count": 200,
   "metadata": {},
   "outputs": [
    {
     "name": "stdout",
     "output_type": "stream",
     "text": [
      "              precision    recall  f1-score   support\n",
      "\n",
      "        High       0.77      0.96      0.85        46\n",
      "         Low       0.89      0.55      0.68        29\n",
      "\n",
      "    accuracy                           0.80        75\n",
      "   macro avg       0.83      0.75      0.77        75\n",
      "weighted avg       0.82      0.80      0.79        75\n",
      "\n"
     ]
    }
   ],
   "source": [
    "from sklearn.linear_model import LogisticRegression\n",
    "logRes = LogisticRegression()\n",
    "logRes.fit(descr_train, star_train)\n",
    "star_pred=logRes.predict(descr_test)\n",
    "\n",
    "from sklearn.metrics import classification_report,confusion_matrix\n",
    "from sklearn.metrics import precision_recall_fscore_support as score\n",
    "\n",
    "precisions=[]\n",
    "recalls=[]\n",
    "fscores=[]\n",
    "precision,recall,fscore,support=score(star_test,star_pred,average='weighted')\n",
    "precisions.append(precision)\n",
    "recalls.append(recall)\n",
    "fscores.append(fscore)\n",
    "\n",
    "\n",
    "print(classification_report(star_test, star_pred))"
   ]
  },
  {
   "cell_type": "code",
   "execution_count": 201,
   "metadata": {},
   "outputs": [
    {
     "name": "stdout",
     "output_type": "stream",
     "text": [
      "              precision    recall  f1-score   support\n",
      "\n",
      "        High       0.86      0.96      0.91        46\n",
      "         Low       0.92      0.76      0.83        29\n",
      "\n",
      "    accuracy                           0.88        75\n",
      "   macro avg       0.89      0.86      0.87        75\n",
      "weighted avg       0.88      0.88      0.88        75\n",
      "\n"
     ]
    }
   ],
   "source": [
    "pred_models=['LogRes','SVM','NaiveBayes']\n",
    "\n",
    "from sklearn.pipeline import Pipeline\n",
    "from sklearn.svm import SVC\n",
    "\n",
    "descr_train, descr_test, star_train, star_test = train_test_split(EarBuds_Bol_description['Description'], EarBuds_Bol_description['Rating'], test_size=0.3,random_state=42)\n",
    "\n",
    "pipeline = Pipeline([\n",
    "    ('bow', CountVectorizer()),  # strings to token integer counts\n",
    "    ('tfidf', TfidfTransformer()),  # integer counts to weighted TF-IDF scores\n",
    "    ('classifier', SVC()),  # train on TF-IDF vectors w/ SVM classifier\n",
    "])\n",
    "\n",
    "pipeline.fit(descr_train,star_train)\n",
    "star_pred = pipeline.predict(descr_test)\n",
    "\n",
    "precision,recall,fscore,support=score(star_test,star_pred,average='weighted')\n",
    "precisions.append(precision)\n",
    "recalls.append(recall)\n",
    "fscores.append(fscore)\n",
    "\n",
    "print(classification_report(star_test, star_pred))"
   ]
  },
  {
   "cell_type": "code",
   "execution_count": 202,
   "metadata": {},
   "outputs": [],
   "source": [
    "from sklearn.naive_bayes import MultinomialNB\n",
    "pipeline = Pipeline([\n",
    "    ('bow', CountVectorizer()),  # strings to token integer counts\n",
    "    ('tfidf', TfidfTransformer()),  # integer counts to weighted TF-IDF scores\n",
    "    ('classifier', MultinomialNB()),  # train on TF-IDF vectors w/ Naive Bayes classifier\n",
    "])\n",
    "\n",
    "pipeline.fit(descr_train,star_train)\n",
    "star_pred = pipeline.predict(descr_test)\n",
    "\n",
    "precision,recall,fscore,support=score(star_test,star_pred,average='weighted')\n",
    "precisions.append(precision)\n",
    "recalls.append(recall)\n",
    "fscores.append(fscore)\n",
    "\n",
    "print(classification_report(star_test, star_pred))\n",
    "\n",
    "describ_star_results_Bol=pd.DataFrame(np.vstack((precisions,recalls,fscores)),index=['Precision','Recall','Fscore'],columns=pred_models)"
   ]
  },
  {
   "cell_type": "code",
   "execution_count": 213,
   "metadata": {},
   "outputs": [
    {
     "data": {
      "text/html": [
       "<div>\n",
       "<style scoped>\n",
       "    .dataframe tbody tr th:only-of-type {\n",
       "        vertical-align: middle;\n",
       "    }\n",
       "\n",
       "    .dataframe tbody tr th {\n",
       "        vertical-align: top;\n",
       "    }\n",
       "\n",
       "    .dataframe thead th {\n",
       "        text-align: right;\n",
       "    }\n",
       "</style>\n",
       "<table border=\"1\" class=\"dataframe\">\n",
       "  <thead>\n",
       "    <tr style=\"text-align: right;\">\n",
       "      <th></th>\n",
       "      <th>Models</th>\n",
       "      <th>Precision</th>\n",
       "      <th>Recall</th>\n",
       "      <th>Fscore</th>\n",
       "    </tr>\n",
       "  </thead>\n",
       "  <tbody>\n",
       "    <tr>\n",
       "      <th>0</th>\n",
       "      <td>LogRes</td>\n",
       "      <td>0.817154</td>\n",
       "      <td>0.800000</td>\n",
       "      <td>0.787275</td>\n",
       "    </tr>\n",
       "    <tr>\n",
       "      <th>1</th>\n",
       "      <td>SVM</td>\n",
       "      <td>0.883595</td>\n",
       "      <td>0.880000</td>\n",
       "      <td>0.877432</td>\n",
       "    </tr>\n",
       "    <tr>\n",
       "      <th>2</th>\n",
       "      <td>NaiveBayes</td>\n",
       "      <td>0.806464</td>\n",
       "      <td>0.786667</td>\n",
       "      <td>0.771148</td>\n",
       "    </tr>\n",
       "  </tbody>\n",
       "</table>\n",
       "</div>"
      ],
      "text/plain": [
       "       Models  Precision    Recall    Fscore\n",
       "0      LogRes   0.817154  0.800000  0.787275\n",
       "1         SVM   0.883595  0.880000  0.877432\n",
       "2  NaiveBayes   0.806464  0.786667  0.771148"
      ]
     },
     "execution_count": 213,
     "metadata": {},
     "output_type": "execute_result"
    }
   ],
   "source": [
    "describ_star_results_Bol=describ_star_results_Bol.transpose()\n",
    "describ_star_results_Bol=describ_star_results_Bol.reset_index()\n",
    "describ_star_results_Bol.columns=['Models', 'Precision', 'Recall', 'Fscore']\n",
    "describ_star_results\n"
   ]
  },
  {
   "cell_type": "code",
   "execution_count": 248,
   "metadata": {},
   "outputs": [
    {
     "data": {
      "text/plain": [
       "Text(0, 0.5, 'Value')"
      ]
     },
     "execution_count": 248,
     "metadata": {},
     "output_type": "execute_result"
    },
    {
     "data": {
      "image/png": "[encoded data removed]",
      "text/plain": [
       "<Figure size 432x288 with 1 Axes>"
      ]
     },
     "metadata": {},
     "output_type": "display_data"
    }
   ],
   "source": [
    "fig=plt.figure()\n",
    "axes=fig.add_axes([0.1,0.1,0.8,0.8])\n",
    "sns.scatterplot(x='Models', y='Precision',data=describ_star_results,color='green',label='Precision',s=100, marker=\"s\")\n",
    "sns.scatterplot(x='Models', y='Recall',data=describ_star_results,color='green',label='Recall',s=100, marker=\"+\")\n",
    "sns.scatterplot(x='Models', y='Fscore',data=describ_star_results,color='green',label='Recall',s=100, marker=\"d\")\n",
    "\n",
    "axes.set_ylabel('Value')"
   ]
  },
  {
   "cell_type": "markdown",
   "metadata": {},
   "source": [
    "## CoolBlue"
   ]
  },
  {
   "cell_type": "code",
   "execution_count": 267,
   "metadata": {},
   "outputs": [
    {
     "data": {
      "text/plain": [
       "4.5    112\n",
       "4.0     23\n",
       "5.0      7\n",
       "3.5      3\n",
       "3.0      2\n",
       "Name: Stars [x/5.0], dtype: int64"
      ]
     },
     "execution_count": 267,
     "metadata": {},
     "output_type": "execute_result"
    }
   ],
   "source": [
    "EarBuds_CoolBlue_description = EarBuds_CoolBlue[['Manufacturer', 'Name','Stars [x/5.0]', 'S_count', 'Description', 'Pros', 'Cons']]\n",
    "EarBuds_CoolBlue_description=EarBuds_CoolBlue_description[EarBuds_CoolBlue_description['Stars [x/5.0]'] != 'No review']\n",
    "EarBuds_CoolBlue_description['Stars [x/5.0]']=EarBuds_CoolBlue_description['Stars [x/5.0]'].apply(float)\n",
    "EarBuds_CoolBlue_description['S_count']=EarBuds_CoolBlue_description['S_count'].apply(int)\n",
    "\n"
   ]
  },
  {
   "cell_type": "code",
   "execution_count": 265,
   "metadata": {},
   "outputs": [
    {
     "ename": "RuntimeError",
     "evalue": "Selected KDE bandwidth is 0. Cannot estiamte density.",
     "output_type": "error",
     "traceback": [
      "\u001b[1;31m---------------------------------------------------------------------------\u001b[0m",
      "\u001b[1;31mValueError\u001b[0m                                Traceback (most recent call last)",
      "\u001b[1;32mD:\\ANACONDA\\lib\\site-packages\\statsmodels\\nonparametric\\kde.py\u001b[0m in \u001b[0;36mkdensityfft\u001b[1;34m(X, kernel, bw, weights, gridsize, adjust, clip, cut, retgrid)\u001b[0m\n\u001b[0;32m    450\u001b[0m     \u001b[1;32mtry\u001b[0m\u001b[1;33m:\u001b[0m\u001b[1;33m\u001b[0m\u001b[1;33m\u001b[0m\u001b[0m\n\u001b[1;32m--> 451\u001b[1;33m         \u001b[0mbw\u001b[0m \u001b[1;33m=\u001b[0m \u001b[0mfloat\u001b[0m\u001b[1;33m(\u001b[0m\u001b[0mbw\u001b[0m\u001b[1;33m)\u001b[0m\u001b[1;33m\u001b[0m\u001b[1;33m\u001b[0m\u001b[0m\n\u001b[0m\u001b[0;32m    452\u001b[0m     \u001b[1;32mexcept\u001b[0m\u001b[1;33m:\u001b[0m\u001b[1;33m\u001b[0m\u001b[1;33m\u001b[0m\u001b[0m\n",
      "\u001b[1;31mValueError\u001b[0m: could not convert string to float: 'scott'",
      "\nDuring handling of the above exception, another exception occurred:\n",
      "\u001b[1;31mRuntimeError\u001b[0m                              Traceback (most recent call last)",
      "\u001b[1;32m<ipython-input-265-01809ce4ed72>\u001b[0m in \u001b[0;36m<module>\u001b[1;34m\u001b[0m\n\u001b[0;32m      2\u001b[0m \u001b[0msns\u001b[0m\u001b[1;33m.\u001b[0m\u001b[0mcountplot\u001b[0m\u001b[1;33m(\u001b[0m\u001b[0mEarBuds_CoolBlue_description\u001b[0m\u001b[1;33m[\u001b[0m\u001b[1;34m'S_count'\u001b[0m\u001b[1;33m]\u001b[0m\u001b[1;33m,\u001b[0m\u001b[0mcolor\u001b[0m\u001b[1;33m=\u001b[0m\u001b[1;34m'green'\u001b[0m\u001b[1;33m)\u001b[0m\u001b[1;33m\u001b[0m\u001b[1;33m\u001b[0m\u001b[0m\n\u001b[0;32m      3\u001b[0m \u001b[0mplt\u001b[0m\u001b[1;33m.\u001b[0m\u001b[0mfigure\u001b[0m\u001b[1;33m(\u001b[0m\u001b[1;33m)\u001b[0m\u001b[1;33m\u001b[0m\u001b[1;33m\u001b[0m\u001b[0m\n\u001b[1;32m----> 4\u001b[1;33m \u001b[0msns\u001b[0m\u001b[1;33m.\u001b[0m\u001b[0mdistplot\u001b[0m\u001b[1;33m(\u001b[0m\u001b[0mEarBuds_CoolBlue_description\u001b[0m\u001b[1;33m[\u001b[0m\u001b[1;34m'Stars [x/5.0]'\u001b[0m\u001b[1;33m]\u001b[0m\u001b[1;33m,\u001b[0m\u001b[0mcolor\u001b[0m\u001b[1;33m=\u001b[0m\u001b[1;34m'green'\u001b[0m\u001b[1;33m)\u001b[0m\u001b[1;33m\u001b[0m\u001b[1;33m\u001b[0m\u001b[0m\n\u001b[0m",
      "\u001b[1;32mD:\\ANACONDA\\lib\\site-packages\\seaborn\\distributions.py\u001b[0m in \u001b[0;36mdistplot\u001b[1;34m(a, bins, hist, kde, rug, fit, hist_kws, kde_kws, rug_kws, fit_kws, color, vertical, norm_hist, axlabel, label, ax)\u001b[0m\n\u001b[0;32m    231\u001b[0m     \u001b[1;32mif\u001b[0m \u001b[0mkde\u001b[0m\u001b[1;33m:\u001b[0m\u001b[1;33m\u001b[0m\u001b[1;33m\u001b[0m\u001b[0m\n\u001b[0;32m    232\u001b[0m         \u001b[0mkde_color\u001b[0m \u001b[1;33m=\u001b[0m \u001b[0mkde_kws\u001b[0m\u001b[1;33m.\u001b[0m\u001b[0mpop\u001b[0m\u001b[1;33m(\u001b[0m\u001b[1;34m\"color\"\u001b[0m\u001b[1;33m,\u001b[0m \u001b[0mcolor\u001b[0m\u001b[1;33m)\u001b[0m\u001b[1;33m\u001b[0m\u001b[1;33m\u001b[0m\u001b[0m\n\u001b[1;32m--> 233\u001b[1;33m         \u001b[0mkdeplot\u001b[0m\u001b[1;33m(\u001b[0m\u001b[0ma\u001b[0m\u001b[1;33m,\u001b[0m \u001b[0mvertical\u001b[0m\u001b[1;33m=\u001b[0m\u001b[0mvertical\u001b[0m\u001b[1;33m,\u001b[0m \u001b[0max\u001b[0m\u001b[1;33m=\u001b[0m\u001b[0max\u001b[0m\u001b[1;33m,\u001b[0m \u001b[0mcolor\u001b[0m\u001b[1;33m=\u001b[0m\u001b[0mkde_color\u001b[0m\u001b[1;33m,\u001b[0m \u001b[1;33m**\u001b[0m\u001b[0mkde_kws\u001b[0m\u001b[1;33m)\u001b[0m\u001b[1;33m\u001b[0m\u001b[1;33m\u001b[0m\u001b[0m\n\u001b[0m\u001b[0;32m    234\u001b[0m         \u001b[1;32mif\u001b[0m \u001b[0mkde_color\u001b[0m \u001b[1;33m!=\u001b[0m \u001b[0mcolor\u001b[0m\u001b[1;33m:\u001b[0m\u001b[1;33m\u001b[0m\u001b[1;33m\u001b[0m\u001b[0m\n\u001b[0;32m    235\u001b[0m             \u001b[0mkde_kws\u001b[0m\u001b[1;33m[\u001b[0m\u001b[1;34m\"color\"\u001b[0m\u001b[1;33m]\u001b[0m \u001b[1;33m=\u001b[0m \u001b[0mkde_color\u001b[0m\u001b[1;33m\u001b[0m\u001b[1;33m\u001b[0m\u001b[0m\n",
      "\u001b[1;32mD:\\ANACONDA\\lib\\site-packages\\seaborn\\distributions.py\u001b[0m in \u001b[0;36mkdeplot\u001b[1;34m(data, data2, shade, vertical, kernel, bw, gridsize, cut, clip, legend, cumulative, shade_lowest, cbar, cbar_ax, cbar_kws, ax, **kwargs)\u001b[0m\n\u001b[0;32m    703\u001b[0m         ax = _univariate_kdeplot(data, shade, vertical, kernel, bw,\n\u001b[0;32m    704\u001b[0m                                  \u001b[0mgridsize\u001b[0m\u001b[1;33m,\u001b[0m \u001b[0mcut\u001b[0m\u001b[1;33m,\u001b[0m \u001b[0mclip\u001b[0m\u001b[1;33m,\u001b[0m \u001b[0mlegend\u001b[0m\u001b[1;33m,\u001b[0m \u001b[0max\u001b[0m\u001b[1;33m,\u001b[0m\u001b[1;33m\u001b[0m\u001b[1;33m\u001b[0m\u001b[0m\n\u001b[1;32m--> 705\u001b[1;33m                                  cumulative=cumulative, **kwargs)\n\u001b[0m\u001b[0;32m    706\u001b[0m \u001b[1;33m\u001b[0m\u001b[0m\n\u001b[0;32m    707\u001b[0m     \u001b[1;32mreturn\u001b[0m \u001b[0max\u001b[0m\u001b[1;33m\u001b[0m\u001b[1;33m\u001b[0m\u001b[0m\n",
      "\u001b[1;32mD:\\ANACONDA\\lib\\site-packages\\seaborn\\distributions.py\u001b[0m in \u001b[0;36m_univariate_kdeplot\u001b[1;34m(data, shade, vertical, kernel, bw, gridsize, cut, clip, legend, ax, cumulative, **kwargs)\u001b[0m\n\u001b[0;32m    293\u001b[0m         x, y = _statsmodels_univariate_kde(data, kernel, bw,\n\u001b[0;32m    294\u001b[0m                                            \u001b[0mgridsize\u001b[0m\u001b[1;33m,\u001b[0m \u001b[0mcut\u001b[0m\u001b[1;33m,\u001b[0m \u001b[0mclip\u001b[0m\u001b[1;33m,\u001b[0m\u001b[1;33m\u001b[0m\u001b[1;33m\u001b[0m\u001b[0m\n\u001b[1;32m--> 295\u001b[1;33m                                            cumulative=cumulative)\n\u001b[0m\u001b[0;32m    296\u001b[0m     \u001b[1;32melse\u001b[0m\u001b[1;33m:\u001b[0m\u001b[1;33m\u001b[0m\u001b[1;33m\u001b[0m\u001b[0m\n\u001b[0;32m    297\u001b[0m         \u001b[1;31m# Fall back to scipy if missing statsmodels\u001b[0m\u001b[1;33m\u001b[0m\u001b[1;33m\u001b[0m\u001b[1;33m\u001b[0m\u001b[0m\n",
      "\u001b[1;32mD:\\ANACONDA\\lib\\site-packages\\seaborn\\distributions.py\u001b[0m in \u001b[0;36m_statsmodels_univariate_kde\u001b[1;34m(data, kernel, bw, gridsize, cut, clip, cumulative)\u001b[0m\n\u001b[0;32m    365\u001b[0m     \u001b[0mfft\u001b[0m \u001b[1;33m=\u001b[0m \u001b[0mkernel\u001b[0m \u001b[1;33m==\u001b[0m \u001b[1;34m\"gau\"\u001b[0m\u001b[1;33m\u001b[0m\u001b[1;33m\u001b[0m\u001b[0m\n\u001b[0;32m    366\u001b[0m     \u001b[0mkde\u001b[0m \u001b[1;33m=\u001b[0m \u001b[0msmnp\u001b[0m\u001b[1;33m.\u001b[0m\u001b[0mKDEUnivariate\u001b[0m\u001b[1;33m(\u001b[0m\u001b[0mdata\u001b[0m\u001b[1;33m)\u001b[0m\u001b[1;33m\u001b[0m\u001b[1;33m\u001b[0m\u001b[0m\n\u001b[1;32m--> 367\u001b[1;33m     \u001b[0mkde\u001b[0m\u001b[1;33m.\u001b[0m\u001b[0mfit\u001b[0m\u001b[1;33m(\u001b[0m\u001b[0mkernel\u001b[0m\u001b[1;33m,\u001b[0m \u001b[0mbw\u001b[0m\u001b[1;33m,\u001b[0m \u001b[0mfft\u001b[0m\u001b[1;33m,\u001b[0m \u001b[0mgridsize\u001b[0m\u001b[1;33m=\u001b[0m\u001b[0mgridsize\u001b[0m\u001b[1;33m,\u001b[0m \u001b[0mcut\u001b[0m\u001b[1;33m=\u001b[0m\u001b[0mcut\u001b[0m\u001b[1;33m,\u001b[0m \u001b[0mclip\u001b[0m\u001b[1;33m=\u001b[0m\u001b[0mclip\u001b[0m\u001b[1;33m)\u001b[0m\u001b[1;33m\u001b[0m\u001b[1;33m\u001b[0m\u001b[0m\n\u001b[0m\u001b[0;32m    368\u001b[0m     \u001b[1;32mif\u001b[0m \u001b[0mcumulative\u001b[0m\u001b[1;33m:\u001b[0m\u001b[1;33m\u001b[0m\u001b[1;33m\u001b[0m\u001b[0m\n\u001b[0;32m    369\u001b[0m         \u001b[0mgrid\u001b[0m\u001b[1;33m,\u001b[0m \u001b[0my\u001b[0m \u001b[1;33m=\u001b[0m \u001b[0mkde\u001b[0m\u001b[1;33m.\u001b[0m\u001b[0msupport\u001b[0m\u001b[1;33m,\u001b[0m \u001b[0mkde\u001b[0m\u001b[1;33m.\u001b[0m\u001b[0mcdf\u001b[0m\u001b[1;33m\u001b[0m\u001b[1;33m\u001b[0m\u001b[0m\n",
      "\u001b[1;32mD:\\ANACONDA\\lib\\site-packages\\statsmodels\\nonparametric\\kde.py\u001b[0m in \u001b[0;36mfit\u001b[1;34m(self, kernel, bw, fft, weights, gridsize, adjust, cut, clip)\u001b[0m\n\u001b[0;32m    138\u001b[0m             density, grid, bw = kdensityfft(endog, kernel=kernel, bw=bw,\n\u001b[0;32m    139\u001b[0m                     \u001b[0madjust\u001b[0m\u001b[1;33m=\u001b[0m\u001b[0madjust\u001b[0m\u001b[1;33m,\u001b[0m \u001b[0mweights\u001b[0m\u001b[1;33m=\u001b[0m\u001b[0mweights\u001b[0m\u001b[1;33m,\u001b[0m \u001b[0mgridsize\u001b[0m\u001b[1;33m=\u001b[0m\u001b[0mgridsize\u001b[0m\u001b[1;33m,\u001b[0m\u001b[1;33m\u001b[0m\u001b[1;33m\u001b[0m\u001b[0m\n\u001b[1;32m--> 140\u001b[1;33m                     clip=clip, cut=cut)\n\u001b[0m\u001b[0;32m    141\u001b[0m         \u001b[1;32melse\u001b[0m\u001b[1;33m:\u001b[0m\u001b[1;33m\u001b[0m\u001b[1;33m\u001b[0m\u001b[0m\n\u001b[0;32m    142\u001b[0m             density, grid, bw = kdensity(endog, kernel=kernel, bw=bw,\n",
      "\u001b[1;32mD:\\ANACONDA\\lib\\site-packages\\statsmodels\\nonparametric\\kde.py\u001b[0m in \u001b[0;36mkdensityfft\u001b[1;34m(X, kernel, bw, weights, gridsize, adjust, clip, cut, retgrid)\u001b[0m\n\u001b[0;32m    451\u001b[0m         \u001b[0mbw\u001b[0m \u001b[1;33m=\u001b[0m \u001b[0mfloat\u001b[0m\u001b[1;33m(\u001b[0m\u001b[0mbw\u001b[0m\u001b[1;33m)\u001b[0m\u001b[1;33m\u001b[0m\u001b[1;33m\u001b[0m\u001b[0m\n\u001b[0;32m    452\u001b[0m     \u001b[1;32mexcept\u001b[0m\u001b[1;33m:\u001b[0m\u001b[1;33m\u001b[0m\u001b[1;33m\u001b[0m\u001b[0m\n\u001b[1;32m--> 453\u001b[1;33m         \u001b[0mbw\u001b[0m \u001b[1;33m=\u001b[0m \u001b[0mbandwidths\u001b[0m\u001b[1;33m.\u001b[0m\u001b[0mselect_bandwidth\u001b[0m\u001b[1;33m(\u001b[0m\u001b[0mX\u001b[0m\u001b[1;33m,\u001b[0m \u001b[0mbw\u001b[0m\u001b[1;33m,\u001b[0m \u001b[0mkern\u001b[0m\u001b[1;33m)\u001b[0m \u001b[1;31m# will cross-val fit this pattern?\u001b[0m\u001b[1;33m\u001b[0m\u001b[1;33m\u001b[0m\u001b[0m\n\u001b[0m\u001b[0;32m    454\u001b[0m     \u001b[0mbw\u001b[0m \u001b[1;33m*=\u001b[0m \u001b[0madjust\u001b[0m\u001b[1;33m\u001b[0m\u001b[1;33m\u001b[0m\u001b[0m\n\u001b[0;32m    455\u001b[0m \u001b[1;33m\u001b[0m\u001b[0m\n",
      "\u001b[1;32mD:\\ANACONDA\\lib\\site-packages\\statsmodels\\nonparametric\\bandwidths.py\u001b[0m in \u001b[0;36mselect_bandwidth\u001b[1;34m(x, bw, kernel)\u001b[0m\n\u001b[0;32m    172\u001b[0m         \u001b[1;31m# eventually this can fall back on another selection criterion.\u001b[0m\u001b[1;33m\u001b[0m\u001b[1;33m\u001b[0m\u001b[1;33m\u001b[0m\u001b[0m\n\u001b[0;32m    173\u001b[0m         \u001b[0merr\u001b[0m \u001b[1;33m=\u001b[0m \u001b[1;34m\"Selected KDE bandwidth is 0. Cannot estiamte density.\"\u001b[0m\u001b[1;33m\u001b[0m\u001b[1;33m\u001b[0m\u001b[0m\n\u001b[1;32m--> 174\u001b[1;33m         \u001b[1;32mraise\u001b[0m \u001b[0mRuntimeError\u001b[0m\u001b[1;33m(\u001b[0m\u001b[0merr\u001b[0m\u001b[1;33m)\u001b[0m\u001b[1;33m\u001b[0m\u001b[1;33m\u001b[0m\u001b[0m\n\u001b[0m\u001b[0;32m    175\u001b[0m     \u001b[1;32melse\u001b[0m\u001b[1;33m:\u001b[0m\u001b[1;33m\u001b[0m\u001b[1;33m\u001b[0m\u001b[0m\n\u001b[0;32m    176\u001b[0m         \u001b[1;32mreturn\u001b[0m \u001b[0mbandwidth\u001b[0m\u001b[1;33m\u001b[0m\u001b[1;33m\u001b[0m\u001b[0m\n",
      "\u001b[1;31mRuntimeError\u001b[0m: Selected KDE bandwidth is 0. Cannot estiamte density."
     ]
    },
    {
     "data": {
      "image/png": "[encoded data removed]",
      "text/plain": [
       "<Figure size 432x288 with 1 Axes>"
      ]
     },
     "metadata": {},
     "output_type": "display_data"
    },
    {
     "data": {
      "image/png": "[encoded data removed]",
      "text/plain": [
       "<Figure size 432x288 with 1 Axes>"
      ]
     },
     "metadata": {},
     "output_type": "display_data"
    }
   ],
   "source": [
    "plt.figure()\n",
    "sns.countplot(EarBuds_CoolBlue_description['S_count'],color='green')\n",
    "plt.figure()\n",
    "sns.distplot(EarBuds_CoolBlue_description['Stars [x/5.0]'],color='green')"
   ]
  },
  {
   "cell_type": "code",
   "execution_count": 272,
   "metadata": {},
   "outputs": [
    {
     "data": {
      "text/html": [
       "<div>\n",
       "<style scoped>\n",
       "    .dataframe tbody tr th:only-of-type {\n",
       "        vertical-align: middle;\n",
       "    }\n",
       "\n",
       "    .dataframe tbody tr th {\n",
       "        vertical-align: top;\n",
       "    }\n",
       "\n",
       "    .dataframe thead th {\n",
       "        text-align: right;\n",
       "    }\n",
       "</style>\n",
       "<table border=\"1\" class=\"dataframe\">\n",
       "  <thead>\n",
       "    <tr style=\"text-align: right;\">\n",
       "      <th></th>\n",
       "      <th>Manufacturer</th>\n",
       "      <th>Name</th>\n",
       "      <th>Stars [x/5.0]</th>\n",
       "      <th>S_count</th>\n",
       "      <th>Description</th>\n",
       "      <th>Pros</th>\n",
       "      <th>Cons</th>\n",
       "      <th>Rating</th>\n",
       "    </tr>\n",
       "  </thead>\n",
       "  <tbody>\n",
       "    <tr>\n",
       "      <th>0</th>\n",
       "      <td>Apple</td>\n",
       "      <td>AirPods Pro met Draadloze Oplaadcase</td>\n",
       "      <td>4.5</td>\n",
       "      <td>662</td>\n",
       "      <td>apple airpods pro jouw favoriete deuntjes onde...</td>\n",
       "      <td>[Actieve noise cancelling dempt storende omgev...</td>\n",
       "      <td>[Je hebt een Apple iPhone, iPad of Mac nodig o...</td>\n",
       "      <td>High</td>\n",
       "    </tr>\n",
       "    <tr>\n",
       "      <th>1</th>\n",
       "      <td>Apple</td>\n",
       "      <td>AirPods 2 met oplaadcase</td>\n",
       "      <td>4.5</td>\n",
       "      <td>3181</td>\n",
       "      <td>let meegeleverde oplaadcase laad alleen bedraad</td>\n",
       "      <td>[Dankzij de H1 chip verbind je de oordopjes au...</td>\n",
       "      <td>[Je hebt een Apple iPhone, iPad of Mac nodig o...</td>\n",
       "      <td>High</td>\n",
       "    </tr>\n",
       "    <tr>\n",
       "      <th>2</th>\n",
       "      <td>Beats</td>\n",
       "      <td>Powerbeats Pro Zwart</td>\n",
       "      <td>4.5</td>\n",
       "      <td>252</td>\n",
       "      <td>haal beste jezelf boven tijdens sporten powerb...</td>\n",
       "      <td>[Door het volledig draadloze ontwerp heb je ge...</td>\n",
       "      <td>[De draagwijze is minder geschikt voor brildra...</td>\n",
       "      <td>High</td>\n",
       "    </tr>\n",
       "    <tr>\n",
       "      <th>3</th>\n",
       "      <td>Jabra</td>\n",
       "      <td>Elite 75t Titanium Zwart</td>\n",
       "      <td>4.5</td>\n",
       "      <td>193</td>\n",
       "      <td>jabra elite 75t last kabels tijdens luisteren ...</td>\n",
       "      <td>[De Jabra Elite 75t is 20% kleiner dan zijn vo...</td>\n",
       "      <td>[Er worden geen schuimoordoppen meegeleverd.]</td>\n",
       "      <td>High</td>\n",
       "    </tr>\n",
       "    <tr>\n",
       "      <th>4</th>\n",
       "      <td>Apple</td>\n",
       "      <td>AirPods 2 met draadloze oplaadcase</td>\n",
       "      <td>4.5</td>\n",
       "      <td>3181</td>\n",
       "      <td>apple airpods 2 wireless charging case gedoe s...</td>\n",
       "      <td>[Dankzij de H1 chip verbind je de oordopjes au...</td>\n",
       "      <td>[Je hebt een Apple iPhone, iPad of Mac nodig o...</td>\n",
       "      <td>High</td>\n",
       "    </tr>\n",
       "  </tbody>\n",
       "</table>\n",
       "</div>"
      ],
      "text/plain": [
       "  Manufacturer                                  Name  Stars [x/5.0]  S_count  \\\n",
       "0        Apple  AirPods Pro met Draadloze Oplaadcase            4.5      662   \n",
       "1        Apple              AirPods 2 met oplaadcase            4.5     3181   \n",
       "2        Beats                  Powerbeats Pro Zwart            4.5      252   \n",
       "3        Jabra              Elite 75t Titanium Zwart            4.5      193   \n",
       "4        Apple    AirPods 2 met draadloze oplaadcase            4.5     3181   \n",
       "\n",
       "                                         Description  \\\n",
       "0  apple airpods pro jouw favoriete deuntjes onde...   \n",
       "1    let meegeleverde oplaadcase laad alleen bedraad   \n",
       "2  haal beste jezelf boven tijdens sporten powerb...   \n",
       "3  jabra elite 75t last kabels tijdens luisteren ...   \n",
       "4  apple airpods 2 wireless charging case gedoe s...   \n",
       "\n",
       "                                                Pros  \\\n",
       "0  [Actieve noise cancelling dempt storende omgev...   \n",
       "1  [Dankzij de H1 chip verbind je de oordopjes au...   \n",
       "2  [Door het volledig draadloze ontwerp heb je ge...   \n",
       "3  [De Jabra Elite 75t is 20% kleiner dan zijn vo...   \n",
       "4  [Dankzij de H1 chip verbind je de oordopjes au...   \n",
       "\n",
       "                                                Cons Rating  \n",
       "0  [Je hebt een Apple iPhone, iPad of Mac nodig o...   High  \n",
       "1  [Je hebt een Apple iPhone, iPad of Mac nodig o...   High  \n",
       "2  [De draagwijze is minder geschikt voor brildra...   High  \n",
       "3      [Er worden geen schuimoordoppen meegeleverd.]   High  \n",
       "4  [Je hebt een Apple iPhone, iPad of Mac nodig o...   High  "
      ]
     },
     "execution_count": 272,
     "metadata": {},
     "output_type": "execute_result"
    }
   ],
   "source": [
    "EarBuds_CoolBlue_description['Rating']=EarBuds_CoolBlue_description['Stars [x/5.0]'].apply(lambda x: stars_to_rating(x,4.1)) # This is set as 4.0 to have # low=28 and # high 119. Choice is arbitrary \n",
    "EarBuds_CoolBlue_description['Description']=EarBuds_CoolBlue_description['Description'].apply(lambda x: simplify_string(x,True,False))\n",
    "EarBuds_CoolBlue_description.head()"
   ]
  },
  {
   "cell_type": "code",
   "execution_count": 273,
   "metadata": {},
   "outputs": [
    {
     "name": "stdout",
     "output_type": "stream",
     "text": [
      "              precision    recall  f1-score   support\n",
      "\n",
      "        High       0.76      1.00      0.86        34\n",
      "         Low       0.00      0.00      0.00        11\n",
      "\n",
      "    accuracy                           0.76        45\n",
      "   macro avg       0.38      0.50      0.43        45\n",
      "weighted avg       0.57      0.76      0.65        45\n",
      "\n"
     ]
    }
   ],
   "source": [
    "descr_train, descr_test, star_train, star_test = train_test_split(EarBuds_CoolBlue_description['Description'], EarBuds_CoolBlue_description['Rating'], test_size=0.3,random_state=42)\n",
    "\n",
    "pipeline = Pipeline([\n",
    "    ('bow', CountVectorizer()),  # strings to token integer counts\n",
    "    ('tfidf', TfidfTransformer()),  # integer counts to weighted TF-IDF scores\n",
    "    ('classifier', LogisticRegression()),  # train on TF-IDF vectors w/ LogRes classifier\n",
    "])\n",
    "\n",
    "pipeline.fit(descr_train,star_train)\n",
    "star_pred = pipeline.predict(descr_test)\n",
    "\n",
    "precisions=[]\n",
    "recalls=[]\n",
    "fscores=[]\n",
    "precision,recall,fscore,support=score(star_test,star_pred,average='weighted')\n",
    "precisions.append(precision)\n",
    "recalls.append(recall)\n",
    "fscores.append(fscore)\n",
    "\n",
    "print(classification_report(star_test, star_pred))"
   ]
  },
  {
   "cell_type": "code",
   "execution_count": 274,
   "metadata": {},
   "outputs": [
    {
     "name": "stdout",
     "output_type": "stream",
     "text": [
      "              precision    recall  f1-score   support\n",
      "\n",
      "        High       0.89      1.00      0.94        34\n",
      "         Low       1.00      0.64      0.78        11\n",
      "\n",
      "    accuracy                           0.91        45\n",
      "   macro avg       0.95      0.82      0.86        45\n",
      "weighted avg       0.92      0.91      0.90        45\n",
      "\n"
     ]
    }
   ],
   "source": [
    "descr_train, descr_test, star_train, star_test = train_test_split(EarBuds_CoolBlue_description['Description'], EarBuds_CoolBlue_description['Rating'], test_size=0.3,random_state=42)\n",
    "\n",
    "pipeline = Pipeline([\n",
    "    ('bow', CountVectorizer()),  # strings to token integer counts\n",
    "    ('tfidf', TfidfTransformer()),  # integer counts to weighted TF-IDF scores\n",
    "    ('classifier', SVC()),  # train on TF-IDF vectors w/ LogRes classifier\n",
    "])\n",
    "\n",
    "pipeline.fit(descr_train,star_train)\n",
    "star_pred = pipeline.predict(descr_test)\n",
    "\n",
    "precision,recall,fscore,support=score(star_test,star_pred,average='weighted')\n",
    "precisions.append(precision)\n",
    "recalls.append(recall)\n",
    "fscores.append(fscore)\n",
    "\n",
    "print(classification_report(star_test, star_pred))"
   ]
  },
  {
   "cell_type": "code",
   "execution_count": 276,
   "metadata": {},
   "outputs": [
    {
     "name": "stdout",
     "output_type": "stream",
     "text": [
      "              precision    recall  f1-score   support\n",
      "\n",
      "        High       0.76      1.00      0.86        34\n",
      "         Low       0.00      0.00      0.00        11\n",
      "\n",
      "    accuracy                           0.76        45\n",
      "   macro avg       0.38      0.50      0.43        45\n",
      "weighted avg       0.57      0.76      0.65        45\n",
      "\n"
     ]
    }
   ],
   "source": [
    "descr_train, descr_test, star_train, star_test = train_test_split(EarBuds_CoolBlue_description['Description'], EarBuds_CoolBlue_description['Rating'], test_size=0.3,random_state=42)\n",
    "\n",
    "pipeline = Pipeline([\n",
    "    ('bow', CountVectorizer()),  # strings to token integer counts\n",
    "    ('tfidf', TfidfTransformer()),  # integer counts to weighted TF-IDF scores\n",
    "    ('classifier', MultinomialNB()),  # train on TF-IDF vectors w/ LogRes classifier\n",
    "])\n",
    "\n",
    "pipeline.fit(descr_train,star_train)\n",
    "star_pred = pipeline.predict(descr_test)\n",
    "\n",
    "precision,recall,fscore,support=score(star_test,star_pred,average='weighted')\n",
    "precisions.append(precision)\n",
    "recalls.append(recall)\n",
    "fscores.append(fscore)\n",
    "\n",
    "print(classification_report(star_test, star_pred))"
   ]
  },
  {
   "cell_type": "markdown",
   "metadata": {},
   "source": [
    "I am not going to plot these because we see that both logRes and NB have problems predicting the low values. This is because the majority of the rating is 4.5. Very few are 2-3 stars and therefore the algorithms were not properly trained."
   ]
  },
  {
   "cell_type": "code",
   "execution_count": 278,
   "metadata": {},
   "outputs": [],
   "source": [
    "Names_list=[]\n",
    "Review_list=[]\n",
    "Star_list=[]\n",
    "Earbuds_Bol_review = EarBuds_Bol[['Name','Reviews']]\n",
    "Earbuds_CoolBlue_review = EarBuds_CoolBlue[['Name','Reviews']]\n",
    "\n",
    "\n",
    "for i in range(0,len(Earbuds_Bol_review)):\n",
    "    for j in range(0,len(Earbuds_Bol_review['Reviews'].iloc[i])):\n",
    "        review=Earbuds_Bol_review['Reviews'].iloc[i][j]\n",
    "        review_split=review.split(',')\n",
    "        text=review_split[0]\n",
    "        if len(review_split)>1:\n",
    "            text=' '.join(review_split[:-1])\n",
    "        Review_list.append(text)\n",
    "        Star_list.append(float(review_split[-1]))\n",
    "        Names_list.append(Earbuds_Bol_review['Name'].iloc[i])\n",
    "\n",
    "for i in range(0,len(Earbuds_CoolBlue_review)):\n",
    "    for j in range(0,len(Earbuds_CoolBlue_review['Reviews'].iloc[i])):\n",
    "        review=Earbuds_CoolBlue_review['Reviews'].iloc[i][j]\n",
    "        review_split=review.split(',')\n",
    "        text=review_split[0]\n",
    "        if len(review_split)>1:\n",
    "            text=' '.join(review_split[:-1])\n",
    "        Review_list.append(text)\n",
    "        if round(float(review_split[-1])/2,1)<1.0:\n",
    "            Star_list.append(1.0)\n",
    "        else:\n",
    "            Star_list.append(round(float(review_split[-1])/2,1))\n",
    "        Names_list.append(Earbuds_Bol_review['Name'].iloc[i])\n"
   ]
  },
  {
   "cell_type": "code",
   "execution_count": 280,
   "metadata": {},
   "outputs": [],
   "source": [
    "Review_data = pd.DataFrame(np.vstack((Star_list,Review_list,Names_list)).transpose(),columns=['Stars','Review','Name'])\n",
    "Review_data['Stars']=Review_data['Stars'].apply(float)\n",
    "Review_data['Rating']=Review_data['Stars'].apply(lambda x:stars_to_rating(x,3.5))\n"
   ]
  },
  {
   "cell_type": "code",
   "execution_count": 281,
   "metadata": {},
   "outputs": [
    {
     "data": {
      "text/plain": [
       "<matplotlib.axes._subplots.AxesSubplot at 0x2cc01827548>"
      ]
     },
     "execution_count": 281,
     "metadata": {},
     "output_type": "execute_result"
    },
    {
     "data": {
      "image/png": "[encoded data removed]",
      "text/plain": [
       "<Figure size 432x288 with 1 Axes>"
      ]
     },
     "metadata": {},
     "output_type": "display_data"
    }
   ],
   "source": [
    "plt.close('all')\n",
    "sns.distplot(Review_data['Stars'],kde=True,color='green',bins=20)\n"
   ]
  },
  {
   "cell_type": "code",
   "execution_count": 282,
   "metadata": {},
   "outputs": [],
   "source": [
    "descr_train, descr_test, star_train, star_test = train_test_split(Review_data['Review'], Review_data['Rating'], test_size=0.3,random_state=42)\n"
   ]
  },
  {
   "cell_type": "code",
   "execution_count": 283,
   "metadata": {},
   "outputs": [
    {
     "name": "stdout",
     "output_type": "stream",
     "text": [
      "              precision    recall  f1-score   support\n",
      "\n",
      "        High       0.81      0.99      0.89       737\n",
      "         Low       0.74      0.09      0.16       189\n",
      "\n",
      "    accuracy                           0.81       926\n",
      "   macro avg       0.77      0.54      0.53       926\n",
      "weighted avg       0.80      0.81      0.74       926\n",
      "\n"
     ]
    }
   ],
   "source": [
    "pipeline = Pipeline([\n",
    "    ('bow', CountVectorizer()),  # strings to token integer counts\n",
    "    ('tfidf', TfidfTransformer()),  # integer counts to weighted TF-IDF scores\n",
    "    ('classifier', LogisticRegression()),  # train on TF-IDF vectors w/ LogRes classifier\n",
    "])\n",
    "\n",
    "pipeline.fit(descr_train,star_train)\n",
    "star_pred = pipeline.predict(descr_test)\n",
    "\n",
    "precisions=[]\n",
    "recalls=[]\n",
    "fscores=[]\n",
    "precision,recall,fscore,support=score(star_test,star_pred,average='weighted')\n",
    "precisions.append(precision)\n",
    "recalls.append(recall)\n",
    "fscores.append(fscore)\n",
    "\n",
    "print(classification_report(star_test, star_pred))"
   ]
  },
  {
   "cell_type": "code",
   "execution_count": 284,
   "metadata": {},
   "outputs": [
    {
     "name": "stdout",
     "output_type": "stream",
     "text": [
      "              precision    recall  f1-score   support\n",
      "\n",
      "        High       0.86      0.97      0.91       737\n",
      "         Low       0.78      0.39      0.52       189\n",
      "\n",
      "    accuracy                           0.85       926\n",
      "   macro avg       0.82      0.68      0.72       926\n",
      "weighted avg       0.84      0.85      0.83       926\n",
      "\n"
     ]
    }
   ],
   "source": [
    "pipeline = Pipeline([\n",
    "    ('bow', CountVectorizer()),  # strings to token integer counts\n",
    "    ('tfidf', TfidfTransformer()),  # integer counts to weighted TF-IDF scores\n",
    "    ('classifier', SVC()),  # train on TF-IDF vectors w/ LogRes classifier\n",
    "])\n",
    "\n",
    "pipeline.fit(descr_train,star_train)\n",
    "star_pred = pipeline.predict(descr_test)\n",
    "\n",
    "precision,recall,fscore,support=score(star_test,star_pred,average='weighted')\n",
    "precisions.append(precision)\n",
    "recalls.append(recall)\n",
    "fscores.append(fscore)\n",
    "\n",
    "print(classification_report(star_test, star_pred))"
   ]
  },
  {
   "cell_type": "code",
   "execution_count": 285,
   "metadata": {},
   "outputs": [
    {
     "name": "stdout",
     "output_type": "stream",
     "text": [
      "              precision    recall  f1-score   support\n",
      "\n",
      "        High       0.80      1.00      0.88       737\n",
      "         Low       0.25      0.01      0.01       189\n",
      "\n",
      "    accuracy                           0.79       926\n",
      "   macro avg       0.52      0.50      0.45       926\n",
      "weighted avg       0.68      0.79      0.71       926\n",
      "\n"
     ]
    }
   ],
   "source": [
    "pipeline = Pipeline([\n",
    "    ('bow', CountVectorizer()),  # strings to token integer counts\n",
    "    ('tfidf', TfidfTransformer()),  # integer counts to weighted TF-IDF scores\n",
    "    ('classifier', MultinomialNB()),  # train on TF-IDF vectors w/ LogRes classifier\n",
    "])\n",
    "\n",
    "pipeline.fit(descr_train,star_train)\n",
    "star_pred = pipeline.predict(descr_test)\n",
    "\n",
    "precision,recall,fscore,support=score(star_test,star_pred,average='weighted')\n",
    "precisions.append(precision)\n",
    "recalls.append(recall)\n",
    "fscores.append(fscore)\n",
    "\n",
    "print(classification_report(star_test, star_pred))"
   ]
  }
 ],
 "metadata": {
  "kernelspec": {
   "display_name": "Python 3",
   "language": "python",
   "name": "python3"
  },
  "language_info": {
   "codemirror_mode": {
    "name": "ipython",
    "version": 3
   },
   "file_extension": ".py",
   "mimetype": "text/x-python",
   "name": "python",
   "nbconvert_exporter": "python",
   "pygments_lexer": "ipython3",
   "version": "3.7.6"
  }
 },
 "nbformat": 4,
 "nbformat_minor": 4
}
